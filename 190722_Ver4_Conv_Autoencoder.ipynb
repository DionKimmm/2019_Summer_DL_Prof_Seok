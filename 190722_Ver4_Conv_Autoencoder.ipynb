{
  "nbformat": 4,
  "nbformat_minor": 0,
  "metadata": {
    "colab": {
      "name": "190722_Ver4_Conv_Autoencoder.ipynb",
      "version": "0.3.2",
      "provenance": [],
      "include_colab_link": true
    },
    "kernelspec": {
      "name": "python3",
      "display_name": "Python 3"
    },
    "accelerator": "GPU"
  },
  "cells": [
    {
      "cell_type": "markdown",
      "metadata": {
        "id": "view-in-github",
        "colab_type": "text"
      },
      "source": [
        "<a href=\"https://colab.research.google.com/github/DionKimmm/2019_Summer_DL_Prof_Seok/blob/master/190722_Ver4_Conv_Autoencoder.ipynb\" target=\"_parent\"><img src=\"https://colab.research.google.com/assets/colab-badge.svg\" alt=\"Open In Colab\"/></a>"
      ]
    },
    {
      "cell_type": "markdown",
      "metadata": {
        "id": "sTxDWgCoQbJE",
        "colab_type": "text"
      },
      "source": [
        "* 새로운 개념 : Max Pooling과 대조되는 Unsample"
      ]
    },
    {
      "cell_type": "markdown",
      "metadata": {
        "id": "9qfycz8PALEX",
        "colab_type": "text"
      },
      "source": [
        "# Convolution Autoencoder"
      ]
    },
    {
      "cell_type": "markdown",
      "metadata": {
        "id": "-24uMEH1ANMG",
        "colab_type": "text"
      },
      "source": [
        "## 필요한 라이브러리 불러오기"
      ]
    },
    {
      "cell_type": "code",
      "metadata": {
        "id": "hnseuuqt_lVe",
        "colab_type": "code",
        "colab": {}
      },
      "source": [
        "import tensorflow as tf\n",
        "import numpy as np\n",
        "import matplotlib.pyplot as plt \n",
        "from tensorflow.examples.tutorials.mnist import input_data"
      ],
      "execution_count": 0,
      "outputs": []
    },
    {
      "cell_type": "markdown",
      "metadata": {
        "id": "t4QmFwJCAQB5",
        "colab_type": "text"
      },
      "source": [
        "## 데이터 불러오기 & 하이퍼파라미터 정의"
      ]
    },
    {
      "cell_type": "code",
      "metadata": {
        "id": "5i0qjKfAAIEC",
        "colab_type": "code",
        "outputId": "6cf9f1e1-6b76-4de7-d4bc-e81b10fa9423",
        "colab": {
          "base_uri": "https://localhost:8080/",
          "height": 442
        }
      },
      "source": [
        "mnist = input_data.read_data_sets(\"./mnist/data/\", one_hot=True)\n",
        "\n",
        "learning_rate = 0.001 \n",
        "# learning_rate = 0.01\n",
        "training_epoch = 20\n",
        "batch_size = 100\n",
        "\n",
        "# 신경망 레이어 구성 옵션\n",
        "n_hidden = 256 # 히든 레이어의 뉴런 갯수\n",
        "n_input = 28*28 # 입력값 크기 - 이미지 픽셀수"
      ],
      "execution_count": 2,
      "outputs": [
        {
          "output_type": "stream",
          "text": [
            "WARNING: Logging before flag parsing goes to stderr.\n",
            "W0722 06:43:33.634828 140220493727616 deprecation.py:323] From <ipython-input-2-8ca3dbbdf1cc>:1: read_data_sets (from tensorflow.contrib.learn.python.learn.datasets.mnist) is deprecated and will be removed in a future version.\n",
            "Instructions for updating:\n",
            "Please use alternatives such as official/mnist/dataset.py from tensorflow/models.\n",
            "W0722 06:43:33.637667 140220493727616 deprecation.py:323] From /usr/local/lib/python3.6/dist-packages/tensorflow/contrib/learn/python/learn/datasets/mnist.py:260: maybe_download (from tensorflow.contrib.learn.python.learn.datasets.base) is deprecated and will be removed in a future version.\n",
            "Instructions for updating:\n",
            "Please write your own downloading logic.\n",
            "W0722 06:43:33.640567 140220493727616 deprecation.py:323] From /usr/local/lib/python3.6/dist-packages/tensorflow/contrib/learn/python/learn/datasets/mnist.py:262: extract_images (from tensorflow.contrib.learn.python.learn.datasets.mnist) is deprecated and will be removed in a future version.\n",
            "Instructions for updating:\n",
            "Please use tf.data to implement this functionality.\n"
          ],
          "name": "stderr"
        },
        {
          "output_type": "stream",
          "text": [
            "Extracting ./mnist/data/train-images-idx3-ubyte.gz\n"
          ],
          "name": "stdout"
        },
        {
          "output_type": "stream",
          "text": [
            "W0722 06:43:33.935145 140220493727616 deprecation.py:323] From /usr/local/lib/python3.6/dist-packages/tensorflow/contrib/learn/python/learn/datasets/mnist.py:267: extract_labels (from tensorflow.contrib.learn.python.learn.datasets.mnist) is deprecated and will be removed in a future version.\n",
            "Instructions for updating:\n",
            "Please use tf.data to implement this functionality.\n",
            "W0722 06:43:33.938364 140220493727616 deprecation.py:323] From /usr/local/lib/python3.6/dist-packages/tensorflow/contrib/learn/python/learn/datasets/mnist.py:110: dense_to_one_hot (from tensorflow.contrib.learn.python.learn.datasets.mnist) is deprecated and will be removed in a future version.\n",
            "Instructions for updating:\n",
            "Please use tf.one_hot on tensors.\n",
            "W0722 06:43:33.996205 140220493727616 deprecation.py:323] From /usr/local/lib/python3.6/dist-packages/tensorflow/contrib/learn/python/learn/datasets/mnist.py:290: DataSet.__init__ (from tensorflow.contrib.learn.python.learn.datasets.mnist) is deprecated and will be removed in a future version.\n",
            "Instructions for updating:\n",
            "Please use alternatives such as official/mnist/dataset.py from tensorflow/models.\n"
          ],
          "name": "stderr"
        },
        {
          "output_type": "stream",
          "text": [
            "Extracting ./mnist/data/train-labels-idx1-ubyte.gz\n",
            "Extracting ./mnist/data/t10k-images-idx3-ubyte.gz\n",
            "Extracting ./mnist/data/t10k-labels-idx1-ubyte.gz\n"
          ],
          "name": "stdout"
        }
      ]
    },
    {
      "cell_type": "markdown",
      "metadata": {
        "id": "bDa5q8EkAKDD",
        "colab_type": "text"
      },
      "source": [
        "## 오토인코더 신경망 모델 구성"
      ]
    },
    {
      "cell_type": "code",
      "metadata": {
        "id": "FhdCaX7XFFmr",
        "colab_type": "code",
        "outputId": "2c66b806-bfae-46fc-ebc3-465bb74c73e1",
        "colab": {
          "base_uri": "https://localhost:8080/",
          "height": 195
        }
      },
      "source": [
        "\n",
        "# X = tf.placeholder(tf.float32, [None, n_input])\n",
        "\n",
        "\n",
        "# L1_encoder = tf.layers.dense(inputs=X, units=512, activation=tf.nn.relu) \n",
        "# L2_encoder = tf.layers.dense(inputs=L1_encoder, units=256, activation=tf.nn.relu)\n",
        "# L3_encoder = tf.layers.dense(inputs=L2_encoder, units=128, activation=tf.nn.relu)\n",
        "\n",
        "# Latent     = tf.layers.dense(inputs=L3_encoder, units=64, activation=tf.nn.relu) \n",
        "\n",
        "# L3_decoder = tf.layers.dense(inputs=Latent, units=128, activation=tf.nn.relu) \n",
        "# L2_decoder = tf.layers.dense(inputs=L3_decoder, units=256, activation=tf.nn.relu)\n",
        "# L1_decoder = tf.layers.dense(inputs=L2_decoder, units=512, activation=tf.nn.relu)\n",
        "\n",
        "# Output = tf.layers.dense(inputs=L1_decoder, units=n_input, activation=tf.nn.sigmoid)\n",
        "\n",
        "#######################\n",
        "\n",
        "# 이때까지는 1차원으로 쭉 펼친 784로\n",
        "# 지금은 사진 하나하나가 필요하기 때문에 28*28로 저장해야함\n",
        "\n",
        "inputs_ = tf.placeholder(tf.float32, (None, 28, 28, 1), name='inputs')\n",
        "targets_ = tf.placeholder(tf.float32, (None, 28, 28, 1), name='targets')\n",
        "\n",
        "### Encoder\n",
        "# padding='same'를 하면 7*7 에서 풀링을 진행할 때 패딩을 주어 4*4로 받게 된다.\n",
        "conv1 = tf.layers.conv2d(inputs=inputs_, filters=32, kernel_size=(3,3), padding='same', activation=tf.nn.relu)\n",
        "maxpool1 = tf.layers.max_pooling2d(conv1, pool_size=(2,2), strides=(2,2), padding='same')\n",
        "\n",
        "conv2 = tf.layers.conv2d(inputs=maxpool1, filters=32, kernel_size=(3,3), padding='same', activation=tf.nn.relu)\n",
        "maxpool2 = tf.layers.max_pooling2d(conv2, pool_size=(2,2), strides=(2,2), padding='same')\n",
        "\n",
        "conv3 = tf.layers.conv2d(inputs=maxpool2, filters=16, kernel_size=(3,3), padding='same', activation=tf.nn.relu)\n",
        "encoded = tf.layers.max_pooling2d(conv3, pool_size=(2,2), strides=(2,2), padding='same')\n",
        "\n",
        "###Decoder\n",
        "# 새로운 개념 : Max Pooling과 대조되는 Unsample\n",
        "# 없는걸 만드니까 어렵겠지? tf에서는 부드럽게 처리해주는 리사이징 메소드가 주어진다구.\n",
        "\n",
        "upsample1 = tf.image.resize_images(encoded, size=(7,7), method=tf.image.ResizeMethod.NEAREST_NEIGHBOR)\n",
        "conv4 = tf.layers.conv2d(inputs=upsample1, filters=16, kernel_size=(3,3), padding='same', activation=tf.nn.relu)\n",
        "\n",
        "upsample2 = tf.image.resize_images(conv4, size=(14,14), method=tf.image.ResizeMethod.NEAREST_NEIGHBOR)\n",
        "conv5 = tf.layers.conv2d(inputs=upsample2, filters=32, kernel_size=(3,3), padding='same', activation=tf.nn.relu)\n",
        "\n",
        "upsample3 = tf.image.resize_images(conv5, size=(28,28), method=tf.image.ResizeMethod.NEAREST_NEIGHBOR)\n",
        "conv6 = tf.layers.conv2d(inputs=upsample3, filters=32, kernel_size=(3,3), padding='same', activation=tf.nn.relu)\n",
        "\n",
        "logits = tf.layers.conv2d(inputs=conv6, filters=1, kernel_size=(3,3), padding='same', activation=None)\n",
        "\n",
        "decoded = tf.nn.sigmoid(logits)\n",
        "# decoded = logits"
      ],
      "execution_count": 3,
      "outputs": [
        {
          "output_type": "stream",
          "text": [
            "W0722 06:43:34.271603 140220493727616 deprecation.py:323] From <ipython-input-3-f7f95cc34c1d>:7: conv2d (from tensorflow.python.layers.convolutional) is deprecated and will be removed in a future version.\n",
            "Instructions for updating:\n",
            "Use `tf.keras.layers.Conv2D` instead.\n",
            "W0722 06:43:34.278311 140220493727616 deprecation.py:506] From /usr/local/lib/python3.6/dist-packages/tensorflow/python/ops/init_ops.py:1251: calling VarianceScaling.__init__ (from tensorflow.python.ops.init_ops) with dtype is deprecated and will be removed in a future version.\n",
            "Instructions for updating:\n",
            "Call initializer instance with the dtype argument instead of passing it to the constructor\n",
            "W0722 06:43:34.523760 140220493727616 deprecation.py:323] From <ipython-input-3-f7f95cc34c1d>:8: max_pooling2d (from tensorflow.python.layers.pooling) is deprecated and will be removed in a future version.\n",
            "Instructions for updating:\n",
            "Use keras.layers.MaxPooling2D instead.\n"
          ],
          "name": "stderr"
        }
      ]
    },
    {
      "cell_type": "markdown",
      "metadata": {
        "id": "V2G8LMpYAZQu",
        "colab_type": "text"
      },
      "source": [
        "## 손실함수 정의 및 최적화 "
      ]
    },
    {
      "cell_type": "code",
      "metadata": {
        "id": "X8vlfnipAcgN",
        "colab_type": "code",
        "outputId": "d389571c-17ad-4d3b-9965-0c158e93ee30",
        "colab": {
          "base_uri": "https://localhost:8080/",
          "height": 90
        }
      },
      "source": [
        "# 디코더는 인풋과 최대한 같은 결과를 내야 하므로, 디코딩한 결과를 평가하기 # 위해 입력 값인 X 값을 평가를 # 위한 실측 결과 값으로하여 decoder 와의 차이 # 를 손실값으로 설정\n",
        "\n",
        "# cost = tf.reduce_mean(tf.pow(X - Output, 2))\n",
        "loss = tf.nn.sigmoid_cross_entropy_with_logits(labels=targets_, logits=logits) \n",
        "cost = tf.reduce_mean(loss)\n",
        "optimizer = tf.train.AdamOptimizer(learning_rate).minimize(cost)\n"
      ],
      "execution_count": 4,
      "outputs": [
        {
          "output_type": "stream",
          "text": [
            "W0722 06:43:34.829310 140220493727616 deprecation.py:323] From /usr/local/lib/python3.6/dist-packages/tensorflow/python/ops/nn_impl.py:180: add_dispatch_support.<locals>.wrapper (from tensorflow.python.ops.array_ops) is deprecated and will be removed in a future version.\n",
            "Instructions for updating:\n",
            "Use tf.where in 2.0, which has the same broadcast rule as np.where\n"
          ],
          "name": "stderr"
        }
      ]
    },
    {
      "cell_type": "markdown",
      "metadata": {
        "id": "xpaEFb_9AdtT",
        "colab_type": "text"
      },
      "source": [
        "## 훈련 데이터를 오토인코더 신경망 모델 학습"
      ]
    },
    {
      "cell_type": "code",
      "metadata": {
        "id": "HKYJAAa_AhuO",
        "colab_type": "code",
        "outputId": "ac6ce2b2-97cf-40db-e428-dbbb1581f96f",
        "colab": {
          "base_uri": "https://localhost:8080/",
          "height": 721
        }
      },
      "source": [
        "init = tf.global_variables_initializer()\n",
        "sess = tf.Session()\n",
        "sess.run(init)\n",
        "total_batch = int(mnist.train.num_examples/batch_size)\n",
        "\n",
        "# for epoch in range(training_epoch):\n",
        "#       total_cost = 0\n",
        "#       for i in range(total_batch):\n",
        "#         batch_xs, batch_ys = mnist.train.next_batch(batch_size)\n",
        "#         _, cost_val = sess.run([optimizer, cost], feed_dict={X: batch_xs})\n",
        "#         total_cost += cost_val\n",
        "#       print('Epoch:', '%04d' % (epoch + 1), 'Avg. cost =', '{:.4f}'.format(total_cost / total_batch))\n",
        "\n",
        "# print('최적화 완료!')\n",
        "\n",
        "# 기법 추가 : np.random.randn()로 잡음을 생성. 원래 이미지로 잡음을 만들더라도 깨끗하게 나온단다\n",
        "noise_factor = 0.5\n",
        "\n",
        "for e in range(training_epoch):    \n",
        "  print(e)    \n",
        "  for ii in range(mnist.train.num_examples // batch_size):       \n",
        "    batch = mnist.train.next_batch(batch_size)      \n",
        "    # Get images from the batch       \n",
        "    imgs = batch[0].reshape((-1, 28, 28, 1))\n",
        "    # Add random noise to the input images       \n",
        "    noisy_imgs = imgs + noise_factor * np.random.randn(*imgs.shape)       \n",
        "    # Clip the images to be between 0 and 1      \n",
        "    noisy_imgs = np.clip(noisy_imgs, 0., 1.)\n",
        "        \n",
        "    # Noisy images as inputs, original images as targets       \n",
        "    batch_cost, _ = sess.run([cost, optimizer], feed_dict={inputs_: noisy_imgs, targets_: imgs}) \n",
        "  print(\"Epoch: {}/{}...\".format(e + 1, training_epoch), \"Training loss: {:.4f}\".format(batch_cost))\n",
        "      \n",
        "sample_size = 10 \n",
        "tmp = mnist.test.images[:sample_size] \n",
        "images = tmp.reshape((-1, 28, 28, 1)) \n",
        "result = sess.run(decoded, feed_dict={inputs_: images})"
      ],
      "execution_count": 5,
      "outputs": [
        {
          "output_type": "stream",
          "text": [
            "0\n",
            "Epoch: 1/20... Training loss: 0.1434\n",
            "1\n",
            "Epoch: 2/20... Training loss: 0.1352\n",
            "2\n",
            "Epoch: 3/20... Training loss: 0.1265\n",
            "3\n",
            "Epoch: 4/20... Training loss: 0.1233\n",
            "4\n",
            "Epoch: 5/20... Training loss: 0.1235\n",
            "5\n",
            "Epoch: 6/20... Training loss: 0.1166\n",
            "6\n",
            "Epoch: 7/20... Training loss: 0.1152\n",
            "7\n",
            "Epoch: 8/20... Training loss: 0.1080\n",
            "8\n",
            "Epoch: 9/20... Training loss: 0.1075\n",
            "9\n",
            "Epoch: 10/20... Training loss: 0.1062\n",
            "10\n",
            "Epoch: 11/20... Training loss: 0.1046\n",
            "11\n",
            "Epoch: 12/20... Training loss: 0.1079\n",
            "12\n",
            "Epoch: 13/20... Training loss: 0.1085\n",
            "13\n",
            "Epoch: 14/20... Training loss: 0.1053\n",
            "14\n",
            "Epoch: 15/20... Training loss: 0.0973\n",
            "15\n",
            "Epoch: 16/20... Training loss: 0.1067\n",
            "16\n",
            "Epoch: 17/20... Training loss: 0.1030\n",
            "17\n",
            "Epoch: 18/20... Training loss: 0.1051\n",
            "18\n",
            "Epoch: 19/20... Training loss: 0.1047\n",
            "19\n",
            "Epoch: 20/20... Training loss: 0.1060\n"
          ],
          "name": "stdout"
        }
      ]
    },
    {
      "cell_type": "markdown",
      "metadata": {
        "id": "kzFwMZ4sAjQy",
        "colab_type": "text"
      },
      "source": [
        "## 합성 결과 확인"
      ]
    },
    {
      "cell_type": "code",
      "metadata": {
        "id": "3RZ8iZ5AAxFF",
        "colab_type": "code",
        "outputId": "2250c423-626b-4a08-c707-aa3dc26294b6",
        "colab": {
          "base_uri": "https://localhost:8080/",
          "height": 158
        }
      },
      "source": [
        "\n",
        "# # 입력값(위쪽)과 모델이 생성한 값(아래쪽)을 시각적으로 비교\n",
        "# sample_size = 10\n",
        "# samples = sess.run(, feed_dict={X: mnist.test.images[:sample_size]})\n",
        "# fig, ax = plt.subplots(2, sample_size, figsize=(sample_size, 2))\n",
        "\n",
        "# for i in range(sample_size):\n",
        "#      ax[0][i].set_axis_off()\n",
        "#      ax[1][i].set_axis_off()\n",
        "#      ax[0][i].imshow(np.reshape(mnist.test.images[i], (28, 28)))\n",
        "#      ax[1][i].imshow(np.reshape(samples[i], (28, 28)))\n",
        "\n",
        "# plt.show()\n",
        "\n",
        "sample_size = 10 \n",
        "tmp = mnist.test.images[:sample_size] \n",
        "images = tmp.reshape((-1, 28, 28, 1)) \n",
        "result = sess.run(decoded, feed_dict={inputs_: images})\n",
        "fig, ax = plt.subplots(2, sample_size, figsize=(sample_size, 2))\n",
        "\n",
        "for i in range(sample_size):    \n",
        "  ax[0][i].set_axis_off()    \n",
        "  ax[1][i].set_axis_off()    \n",
        "  ax[0][i].imshow(np.reshape(images[i], [28,28]))   \n",
        "  ax[1][i].imshow(np.reshape(result[i], [28,28]))\n",
        "\n",
        "plt.show()"
      ],
      "execution_count": 7,
      "outputs": [
        {
          "output_type": "display_data",
          "data": {
            "image/png": "[encoded data removed]",
            "text/plain": [
              "<Figure size 720x144 with 20 Axes>"
            ]
          },
          "metadata": {
            "tags": []
          }
        }
      ]
    },
    {
      "cell_type": "code",
      "metadata": {
        "id": "TMFCbUiqAx3K",
        "colab_type": "code",
        "colab": {}
      },
      "source": [
        "!nvidia-smi"
      ],
      "execution_count": 0,
      "outputs": []
    },
    {
      "cell_type": "code",
      "metadata": {
        "id": "AOt6DqvDBAJ6",
        "colab_type": "code",
        "colab": {}
      },
      "source": [
        ""
      ],
      "execution_count": 0,
      "outputs": []
    }
  ]
}