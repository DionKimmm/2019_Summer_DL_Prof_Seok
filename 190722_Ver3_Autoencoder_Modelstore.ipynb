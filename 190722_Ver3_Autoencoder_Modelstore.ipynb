{
  "nbformat": 4,
  "nbformat_minor": 0,
  "metadata": {
    "colab": {
      "name": "190722_Ver3_Autoencoder_Modelstore.ipynb",
      "version": "0.3.2",
      "provenance": [],
      "collapsed_sections": [],
      "toc_visible": true,
      "include_colab_link": true
    },
    "kernelspec": {
      "name": "python3",
      "display_name": "Python 3"
    },
    "accelerator": "GPU"
  },
  "cells": [
    {
      "cell_type": "markdown",
      "metadata": {
        "id": "view-in-github",
        "colab_type": "text"
      },
      "source": [
        "<a href=\"https://colab.research.google.com/github/DionKimmm/2019_Summer_DL_Prof_Seok/blob/master/190722_Ver3_Autoencoder_Modelstore.ipynb\" target=\"_parent\"><img src=\"https://colab.research.google.com/assets/colab-badge.svg\" alt=\"Open In Colab\"/></a>"
      ]
    },
    {
      "cell_type": "markdown",
      "metadata": {
        "id": "9qfycz8PALEX",
        "colab_type": "text"
      },
      "source": [
        "# Autoencoder"
      ]
    },
    {
      "cell_type": "markdown",
      "metadata": {
        "id": "-24uMEH1ANMG",
        "colab_type": "text"
      },
      "source": [
        "## 필요한 라이브러리 불러오기"
      ]
    },
    {
      "cell_type": "code",
      "metadata": {
        "id": "hnseuuqt_lVe",
        "colab_type": "code",
        "colab": {}
      },
      "source": [
        "import tensorflow as tf\n",
        "import numpy as np\n",
        "import matplotlib.pyplot as plt \n",
        "from tensorflow.examples.tutorials.mnist import input_data"
      ],
      "execution_count": 0,
      "outputs": []
    },
    {
      "cell_type": "markdown",
      "metadata": {
        "id": "t4QmFwJCAQB5",
        "colab_type": "text"
      },
      "source": [
        "## 데이터 불러오기 & 하이퍼파라미터 정의"
      ]
    },
    {
      "cell_type": "code",
      "metadata": {
        "id": "5i0qjKfAAIEC",
        "colab_type": "code",
        "outputId": "d0f71d29-371d-4878-af2c-78b63714bdfe",
        "colab": {
          "base_uri": "https://localhost:8080/",
          "height": 442
        }
      },
      "source": [
        "mnist = input_data.read_data_sets(\"./mnist/data/\", one_hot=True)\n",
        "\n",
        "learning_rate = 0.001 \n",
        "# learning_rate = 0.01\n",
        "training_epoch = 20\n",
        "batch_size = 100\n",
        "\n",
        "# 신경망 레이어 구성 옵션\n",
        "n_hidden = 256 # 히든 레이어의 뉴런 갯수\n",
        "n_input = 28*28 # 입력값 크기 - 이미지 픽셀수"
      ],
      "execution_count": 2,
      "outputs": [
        {
          "output_type": "stream",
          "text": [
            "WARNING: Logging before flag parsing goes to stderr.\n",
            "W0722 05:46:48.578307 140377313576832 deprecation.py:323] From <ipython-input-2-8ca3dbbdf1cc>:1: read_data_sets (from tensorflow.contrib.learn.python.learn.datasets.mnist) is deprecated and will be removed in a future version.\n",
            "Instructions for updating:\n",
            "Please use alternatives such as official/mnist/dataset.py from tensorflow/models.\n",
            "W0722 05:46:48.584976 140377313576832 deprecation.py:323] From /usr/local/lib/python3.6/dist-packages/tensorflow/contrib/learn/python/learn/datasets/mnist.py:260: maybe_download (from tensorflow.contrib.learn.python.learn.datasets.base) is deprecated and will be removed in a future version.\n",
            "Instructions for updating:\n",
            "Please write your own downloading logic.\n",
            "W0722 05:46:48.587155 140377313576832 deprecation.py:323] From /usr/local/lib/python3.6/dist-packages/tensorflow/contrib/learn/python/learn/datasets/mnist.py:262: extract_images (from tensorflow.contrib.learn.python.learn.datasets.mnist) is deprecated and will be removed in a future version.\n",
            "Instructions for updating:\n",
            "Please use tf.data to implement this functionality.\n"
          ],
          "name": "stderr"
        },
        {
          "output_type": "stream",
          "text": [
            "Extracting ./mnist/data/train-images-idx3-ubyte.gz\n"
          ],
          "name": "stdout"
        },
        {
          "output_type": "stream",
          "text": [
            "W0722 05:46:48.859769 140377313576832 deprecation.py:323] From /usr/local/lib/python3.6/dist-packages/tensorflow/contrib/learn/python/learn/datasets/mnist.py:267: extract_labels (from tensorflow.contrib.learn.python.learn.datasets.mnist) is deprecated and will be removed in a future version.\n",
            "Instructions for updating:\n",
            "Please use tf.data to implement this functionality.\n",
            "W0722 05:46:48.863207 140377313576832 deprecation.py:323] From /usr/local/lib/python3.6/dist-packages/tensorflow/contrib/learn/python/learn/datasets/mnist.py:110: dense_to_one_hot (from tensorflow.contrib.learn.python.learn.datasets.mnist) is deprecated and will be removed in a future version.\n",
            "Instructions for updating:\n",
            "Please use tf.one_hot on tensors.\n",
            "W0722 05:46:48.918126 140377313576832 deprecation.py:323] From /usr/local/lib/python3.6/dist-packages/tensorflow/contrib/learn/python/learn/datasets/mnist.py:290: DataSet.__init__ (from tensorflow.contrib.learn.python.learn.datasets.mnist) is deprecated and will be removed in a future version.\n",
            "Instructions for updating:\n",
            "Please use alternatives such as official/mnist/dataset.py from tensorflow/models.\n"
          ],
          "name": "stderr"
        },
        {
          "output_type": "stream",
          "text": [
            "Extracting ./mnist/data/train-labels-idx1-ubyte.gz\n",
            "Extracting ./mnist/data/t10k-images-idx3-ubyte.gz\n",
            "Extracting ./mnist/data/t10k-labels-idx1-ubyte.gz\n"
          ],
          "name": "stdout"
        }
      ]
    },
    {
      "cell_type": "markdown",
      "metadata": {
        "id": "bDa5q8EkAKDD",
        "colab_type": "text"
      },
      "source": [
        "## 오토인코더 신경망 모델 구성"
      ]
    },
    {
      "cell_type": "code",
      "metadata": {
        "id": "FhdCaX7XFFmr",
        "colab_type": "code",
        "outputId": "643d1bc2-3070-477b-fe18-029ed9de004e",
        "colab": {
          "base_uri": "https://localhost:8080/",
          "height": 142
        }
      },
      "source": [
        "X = tf.placeholder(tf.float32, [None, n_input])\n",
        "\n",
        "# 학습을 한번 시키고 학습 시킨 모델을 세이브 : 한번 학습 시킴\n",
        "# 그 모델을 다시 불러오고 학습시키면? -> 두번 학습시킴\n",
        "# 학습시킨 전역 카운팅 변수 라고 생각하면 될듯\n",
        "global_step = tf.Variable(0, trainable=False, name='global_step')\n",
        "\n",
        "L1_encoder = tf.layers.dense(inputs=X, units=512, activation=tf.nn.relu) \n",
        "L2_encoder = tf.layers.dense(inputs=L1_encoder, units=256, activation=tf.nn.relu)\n",
        "L3_encoder = tf.layers.dense(inputs=L2_encoder, units=128, activation=tf.nn.relu)\n",
        "\n",
        "Latent     = tf.layers.dense(inputs=L3_encoder, units=64, activation=tf.nn.relu) \n",
        "\n",
        "L3_decoder = tf.layers.dense(inputs=Latent, units=128, activation=tf.nn.relu) \n",
        "L2_decoder = tf.layers.dense(inputs=L3_decoder, units=256, activation=tf.nn.relu)\n",
        "L1_decoder = tf.layers.dense(inputs=L2_decoder, units=512, activation=tf.nn.relu)\n",
        "\n",
        "Output = tf.layers.dense(inputs=L1_decoder, units=n_input, activation=tf.nn.sigmoid)"
      ],
      "execution_count": 3,
      "outputs": [
        {
          "output_type": "stream",
          "text": [
            "W0722 05:46:49.162626 140377313576832 deprecation.py:323] From <ipython-input-3-c8b400b4e223>:8: dense (from tensorflow.python.layers.core) is deprecated and will be removed in a future version.\n",
            "Instructions for updating:\n",
            "Use keras.layers.dense instead.\n",
            "W0722 05:46:49.168027 140377313576832 deprecation.py:506] From /usr/local/lib/python3.6/dist-packages/tensorflow/python/ops/init_ops.py:1251: calling VarianceScaling.__init__ (from tensorflow.python.ops.init_ops) with dtype is deprecated and will be removed in a future version.\n",
            "Instructions for updating:\n",
            "Call initializer instance with the dtype argument instead of passing it to the constructor\n"
          ],
          "name": "stderr"
        }
      ]
    },
    {
      "cell_type": "markdown",
      "metadata": {
        "id": "V2G8LMpYAZQu",
        "colab_type": "text"
      },
      "source": [
        "## 손실함수 정의 및 최적화 "
      ]
    },
    {
      "cell_type": "code",
      "metadata": {
        "id": "X8vlfnipAcgN",
        "colab_type": "code",
        "outputId": "2adf23fb-3d43-434d-976b-c4007fb54287",
        "colab": {
          "base_uri": "https://localhost:8080/",
          "height": 90
        }
      },
      "source": [
        "# 디코더는 인풋과 최대한 같은 결과를 내야 하므로, 디코딩한 결과를 평가하기 # 위해 입력 값인 X 값을 평가를 # 위한 실측 결과 값으로하여 decoder 와의 차이 # 를 손실값으로 설정\n",
        "\n",
        "cost = tf.reduce_mean(tf.pow(X - Output, 2))\n",
        "# optimizer = tf.train.AdamOptimizer(learning_rate).minimize(cost)\n",
        "optimizer = tf.train.AdamOptimizer(learning_rate).minimize(cost, global_step=global_step)\n"
      ],
      "execution_count": 4,
      "outputs": [
        {
          "output_type": "stream",
          "text": [
            "W0722 05:46:49.716020 140377313576832 deprecation.py:323] From /usr/local/lib/python3.6/dist-packages/tensorflow/python/ops/math_grad.py:1205: add_dispatch_support.<locals>.wrapper (from tensorflow.python.ops.array_ops) is deprecated and will be removed in a future version.\n",
            "Instructions for updating:\n",
            "Use tf.where in 2.0, which has the same broadcast rule as np.where\n"
          ],
          "name": "stderr"
        }
      ]
    },
    {
      "cell_type": "markdown",
      "metadata": {
        "id": "xpaEFb_9AdtT",
        "colab_type": "text"
      },
      "source": [
        "## 훈련 데이터를 오토인코더 신경망 모델 학습"
      ]
    },
    {
      "cell_type": "code",
      "metadata": {
        "id": "HKYJAAa_AhuO",
        "colab_type": "code",
        "outputId": "ac85812b-2308-43b5-c848-196efe2474dd",
        "colab": {
          "base_uri": "https://localhost:8080/",
          "height": 404
        }
      },
      "source": [
        "init = tf.global_variables_initializer()\n",
        "sess = tf.Session()\n",
        "\n",
        "\n",
        "# sess.run(init)\n",
        "###### 추가. ckpt : ckeckpoint\n",
        "saver = tf.train.Saver(tf.global_variables())\n",
        "ckpt = tf.train.get_checkpoint_state('./model')\n",
        "if ckpt and tf.train.checkpoint_exists(ckpt.model_checkpoint_path):\n",
        "  saver.restore(sess, ckpt.model_checkpoint_path)\n",
        "else:\n",
        "  sess.run(tf.global_variables_initializer())\n",
        "\n",
        "total_batch = int(mnist.train.num_examples/batch_size)\n",
        "\n",
        "for epoch in range(training_epoch):\n",
        "      total_cost = 0\n",
        "      for i in range(total_batch):\n",
        "        batch_xs, batch_ys = mnist.train.next_batch(batch_size)\n",
        "        _, cost_val = sess.run([optimizer, cost], feed_dict={X: batch_xs})\n",
        "        total_cost += cost_val\n",
        "      print('Epoch:', '%04d' % (epoch + 1), 'Avg. cost =', '{:.4f}'.format(total_cost / total_batch))\n",
        "\n",
        "print('최적화 완료!')\n",
        "\n",
        "###### 추가.\n",
        "saver.save(sess, './model/Model_Reuse_tfSaver.ckpt', global_step=global_step)"
      ],
      "execution_count": 7,
      "outputs": [
        {
          "output_type": "stream",
          "text": [
            "Epoch: 0001 Avg. cost = 0.0362\n",
            "Epoch: 0002 Avg. cost = 0.0162\n",
            "Epoch: 0003 Avg. cost = 0.0124\n",
            "Epoch: 0004 Avg. cost = 0.0103\n",
            "Epoch: 0005 Avg. cost = 0.0092\n",
            "Epoch: 0006 Avg. cost = 0.0084\n",
            "Epoch: 0007 Avg. cost = 0.0078\n",
            "Epoch: 0008 Avg. cost = 0.0074\n",
            "Epoch: 0009 Avg. cost = 0.0070\n",
            "Epoch: 0010 Avg. cost = 0.0067\n",
            "Epoch: 0011 Avg. cost = 0.0065\n",
            "Epoch: 0012 Avg. cost = 0.0062\n",
            "Epoch: 0013 Avg. cost = 0.0060\n",
            "Epoch: 0014 Avg. cost = 0.0059\n",
            "Epoch: 0015 Avg. cost = 0.0057\n",
            "Epoch: 0016 Avg. cost = 0.0056\n",
            "Epoch: 0017 Avg. cost = 0.0054\n",
            "Epoch: 0018 Avg. cost = 0.0053\n",
            "Epoch: 0019 Avg. cost = 0.0052\n",
            "Epoch: 0020 Avg. cost = 0.0051\n",
            "최적화 완료!\n"
          ],
          "name": "stdout"
        },
        {
          "output_type": "execute_result",
          "data": {
            "text/plain": [
              "'./model/Model_Reuse_tfSaver.ckpt-11000'"
            ]
          },
          "metadata": {
            "tags": []
          },
          "execution_count": 7
        }
      ]
    },
    {
      "cell_type": "markdown",
      "metadata": {
        "id": "kzFwMZ4sAjQy",
        "colab_type": "text"
      },
      "source": [
        "## 합성 결과 확인"
      ]
    },
    {
      "cell_type": "code",
      "metadata": {
        "id": "3RZ8iZ5AAxFF",
        "colab_type": "code",
        "colab": {}
      },
      "source": [
        "\n",
        "# # 입력값(위쪽)과 모델이 생성한 값(아래쪽)을 시각적으로 비교\n",
        "# sample_size = 10\n",
        "# samples = sess.run(Output, feed_dict={X: mnist.test.images[:sample_size]})\n",
        "# fig, ax = plt.subplots(2, sample_size, figsize=(sample_size, 2))\n",
        "\n",
        "# for i in range(sample_size):\n",
        "#      ax[0][i].set_axis_off()\n",
        "#      ax[1][i].set_axis_off()\n",
        "#      ax[0][i].imshow(np.reshape(mnist.test.images[i], (28, 28)))\n",
        "#      ax[1][i].imshow(np.reshape(samples[i], (28, 28)))\n",
        "\n",
        "# plt.show()\n"
      ],
      "execution_count": 0,
      "outputs": []
    },
    {
      "cell_type": "code",
      "metadata": {
        "id": "AOt6DqvDBAJ6",
        "colab_type": "code",
        "colab": {}
      },
      "source": [
        ""
      ],
      "execution_count": 0,
      "outputs": []
    }
  ]
}