{
  "nbformat": 4,
  "nbformat_minor": 0,
  "metadata": {
    "colab": {
      "name": "190724_Generate_MNIST_image_using_GAN.ipynb",
      "version": "0.3.2",
      "provenance": [],
      "toc_visible": true,
      "include_colab_link": true
    },
    "kernelspec": {
      "name": "python3",
      "display_name": "Python 3"
    },
    "accelerator": "GPU"
  },
  "cells": [
    {
      "cell_type": "markdown",
      "metadata": {
        "id": "view-in-github",
        "colab_type": "text"
      },
      "source": [
        "<a href=\"https://colab.research.google.com/github/DionKimmm/2019_Summer_DL_Prof_Seok/blob/master/190724_GAN_Ver1_Generate_MNIST_image_using_GAN.ipynb\" target=\"_parent\"><img src=\"https://colab.research.google.com/assets/colab-badge.svg\" alt=\"Open In Colab\"/></a>"
      ]
    },
    {
      "cell_type": "markdown",
      "metadata": {
        "id": "Dv6gE_Q4jk9d",
        "colab_type": "text"
      },
      "source": [
        "# GAN을 이용한 MNIST 숫자 생성"
      ]
    },
    {
      "cell_type": "markdown",
      "metadata": {
        "id": "wkFchIozjw5x",
        "colab_type": "text"
      },
      "source": [
        "## 목차"
      ]
    },
    {
      "cell_type": "markdown",
      "metadata": {
        "id": "oSbRZGKTjzbq",
        "colab_type": "text"
      },
      "source": [
        "* 필요한 라이브러리 불러오기\n",
        "* 데이터 불러오기 & 하이퍼파라미터 정의\n",
        " * 비지도학습이므로 레이블이 필요없다.\n",
        "* GAN 신경망 모델 구성\n",
        " * Generator, Discriminator 구성\n",
        "* 손실함수 정의 및 최적화\n",
        " * Gan Mini, max 수식 이용 cost 정의\n",
        " * Generator, Discriminator 각각에 대한 최적화 함수 정의\n",
        "* 훈련데이터를 이용한 학습\n",
        " * Session을 열고, Epoch 수를 결정\n",
        " * Generator, Discriminator 각각에 신경망 학습\n",
        "* 테스트 데이터를 이용한 최종 식별 결과 확인\n",
        " * 학습이 되어가는 모습을 보기 위해 주기적으로 이미지를 생성하여 저장"
      ]
    },
    {
      "cell_type": "markdown",
      "metadata": {
        "id": "HL6JRwkFj-GK",
        "colab_type": "text"
      },
      "source": [
        "## 1. 필요한 라이브러리 불러오기"
      ]
    },
    {
      "cell_type": "code",
      "metadata": {
        "id": "3rImRq51kj40",
        "colab_type": "code",
        "colab": {}
      },
      "source": [
        "import tensorflow as tf\n",
        "import matplotlib.pyplot as plt\n",
        "import numpy as np\n",
        "from tensorflow.examples.tutorials.mnist import input_data"
      ],
      "execution_count": 0,
      "outputs": []
    },
    {
      "cell_type": "markdown",
      "metadata": {
        "id": "pzvU-87Ckjo4",
        "colab_type": "text"
      },
      "source": [
        "## 2. 데이터 불러오기 & 하이퍼 파라미터 정의"
      ]
    },
    {
      "cell_type": "code",
      "metadata": {
        "id": "hpY2_CdfkpMz",
        "colab_type": "code",
        "colab": {
          "base_uri": "https://localhost:8080/",
          "height": 451
        },
        "outputId": "f913079c-8492-4169-e5ca-62418c64ba89"
      },
      "source": [
        "mnist = input_data.read_data_sets(\"./mnist/data/\", one_hot=True)\n",
        "\n",
        "#옵션 설정\n",
        "total_epoch = 20\n",
        "batch_size = 100\n",
        "learning_rate = 0.0002\n",
        "# 신경망 레이어 구성 옵션\n",
        "n_hidden = 256\n",
        "n_input = 28 * 28\n",
        "n_noise = 128 # 생성기의 입력값으로 사용할 노이즈의 크기\n"
      ],
      "execution_count": 2,
      "outputs": [
        {
          "output_type": "stream",
          "text": [
            "WARNING: Logging before flag parsing goes to stderr.\n",
            "W0724 06:44:42.122270 140353598953344 deprecation.py:323] From <ipython-input-2-21d829c29332>:1: read_data_sets (from tensorflow.contrib.learn.python.learn.datasets.mnist) is deprecated and will be removed in a future version.\n",
            "Instructions for updating:\n",
            "Please use alternatives such as official/mnist/dataset.py from tensorflow/models.\n",
            "W0724 06:44:42.125396 140353598953344 deprecation.py:323] From /usr/local/lib/python3.6/dist-packages/tensorflow/contrib/learn/python/learn/datasets/mnist.py:260: maybe_download (from tensorflow.contrib.learn.python.learn.datasets.base) is deprecated and will be removed in a future version.\n",
            "Instructions for updating:\n",
            "Please write your own downloading logic.\n",
            "W0724 06:44:42.126529 140353598953344 deprecation.py:323] From /usr/local/lib/python3.6/dist-packages/tensorflow/contrib/learn/python/learn/datasets/mnist.py:262: extract_images (from tensorflow.contrib.learn.python.learn.datasets.mnist) is deprecated and will be removed in a future version.\n",
            "Instructions for updating:\n",
            "Please use tf.data to implement this functionality.\n"
          ],
          "name": "stderr"
        },
        {
          "output_type": "stream",
          "text": [
            "Extracting ./mnist/data/train-images-idx3-ubyte.gz\n"
          ],
          "name": "stdout"
        },
        {
          "output_type": "stream",
          "text": [
            "W0724 06:44:42.371330 140353598953344 deprecation.py:323] From /usr/local/lib/python3.6/dist-packages/tensorflow/contrib/learn/python/learn/datasets/mnist.py:267: extract_labels (from tensorflow.contrib.learn.python.learn.datasets.mnist) is deprecated and will be removed in a future version.\n",
            "Instructions for updating:\n",
            "Please use tf.data to implement this functionality.\n",
            "W0724 06:44:42.373851 140353598953344 deprecation.py:323] From /usr/local/lib/python3.6/dist-packages/tensorflow/contrib/learn/python/learn/datasets/mnist.py:110: dense_to_one_hot (from tensorflow.contrib.learn.python.learn.datasets.mnist) is deprecated and will be removed in a future version.\n",
            "Instructions for updating:\n",
            "Please use tf.one_hot on tensors.\n",
            "W0724 06:44:42.421394 140353598953344 deprecation.py:323] From /usr/local/lib/python3.6/dist-packages/tensorflow/contrib/learn/python/learn/datasets/mnist.py:290: DataSet.__init__ (from tensorflow.contrib.learn.python.learn.datasets.mnist) is deprecated and will be removed in a future version.\n",
            "Instructions for updating:\n",
            "Please use alternatives such as official/mnist/dataset.py from tensorflow/models.\n"
          ],
          "name": "stderr"
        },
        {
          "output_type": "stream",
          "text": [
            "Extracting ./mnist/data/train-labels-idx1-ubyte.gz\n",
            "Extracting ./mnist/data/t10k-images-idx3-ubyte.gz\n",
            "Extracting ./mnist/data/t10k-labels-idx1-ubyte.gz\n"
          ],
          "name": "stdout"
        }
      ]
    },
    {
      "cell_type": "markdown",
      "metadata": {
        "id": "4dSwdixWktw_",
        "colab_type": "text"
      },
      "source": [
        "## 3. 신경망 모델 구성"
      ]
    },
    {
      "cell_type": "code",
      "metadata": {
        "id": "vC6u9VWSkz8n",
        "colab_type": "code",
        "colab": {}
      },
      "source": [
        "#신경망 모델 구성\n",
        "# GAN 도 Unsupervised 학습이므로 Autoencoder 처럼 Y 를 사용 않함. \n",
        "X = tf.placeholder(tf.float32, [None, n_input])\n",
        "Z = tf.placeholder(tf.float32, [None, n_noise]) # 노이즈 Z를 입력값으로 사용\n",
        "\n",
        "# 생성기 신경망에 사용하는 변수들\n",
        "G_W1 = tf.Variable(tf.random_normal([n_noise, n_hidden], stddev=0.01))\n",
        "G_b1 = tf.Variable(tf.zeros([n_hidden]))\n",
        "G_W2 = tf.Variable(tf.random_normal([n_hidden, n_input], stddev=0.01))\n",
        "G_b2 = tf.Variable(tf.zeros([n_input]))\n",
        "\n",
        "# 판별기 신경망에 사용하는 변수들\n",
        "D_W1 = tf.Variable(tf.random_normal([n_input, n_hidden], stddev=0.01))\n",
        "D_b1 = tf.Variable(tf.zeros([n_hidden]))\n",
        "# 판별기의 최종 결과값은 얼마나 진짜와 가깝냐를 판단하는 한 개의 스칼라 값\n",
        "D_W2 = tf.Variable(tf.random_normal([n_hidden, 1], stddev=0.01))\n",
        "D_b2 = tf.Variable(tf.zeros([1]))\n",
        "\n",
        "# 생성기(G) 신경망을 구성\n",
        "def generator(noise_z):\n",
        "      hidden = tf.nn.relu(tf.matmul(noise_z, G_W1) + G_b1)\n",
        "      output = tf.nn.sigmoid(tf.matmul(hidden, G_W2) + G_b2)\n",
        "      return output\n",
        "\n",
        "# 판별기(D) 신경망을 구성\n",
        "def discriminator(inputs):\n",
        "      hidden = tf.nn.relu(tf.matmul(inputs, D_W1) + D_b1)\n",
        "      output = tf.nn.sigmoid(tf.matmul(hidden, D_W2) + D_b2)\n",
        "      return output\n",
        "\n",
        "# 랜덤한 노이즈(Z)\n",
        "def get_noise(batch_size, n_noise):\n",
        "      return np.random.normal(size=(batch_size, n_noise))\n",
        "  \n",
        "# 노이즈를 이용해 랜덤한 이미지를 생성합니다.\n",
        "G = generator(Z)\n",
        "\n",
        "# 노이즈를 이용해 생성한 이미지가 진짜 이미지인지 판별한 값을 구합니다.\n",
        "D_gene = discriminator(G)\n",
        "\n",
        "# 진짜 이미지를 이용해 판별한 값을 구합니다.\n",
        "D_real = discriminator(X)"
      ],
      "execution_count": 0,
      "outputs": []
    },
    {
      "cell_type": "markdown",
      "metadata": {
        "id": "OjchgKaKk2dc",
        "colab_type": "text"
      },
      "source": [
        "## 4. 손실함수 정의 및 최적화"
      ]
    },
    {
      "cell_type": "code",
      "metadata": {
        "id": "uWSnzGzWk9kI",
        "colab_type": "code",
        "colab": {}
      },
      "source": [
        "loss_D = tf.reduce_mean(tf.log(D_real) + tf.log(1 - D_gene))\n",
        "\n",
        "loss_G = tf.reduce_mean(tf.log(D_gene))\n",
        "\n",
        "D_var_list = [D_W1, D_b1, D_W2, D_b2]\n",
        "G_var_list = [G_W1, G_b1, G_W2, G_b2]\n",
        "\n",
        "# 최적화 하려는 loss_D 와 loss_G 에 음수 부호를 붙여줍니다.\n",
        "train_D= tf.train.AdamOptimizer(learning_rate).minimize(-loss_D, var_list=D_var_list)\n",
        "train_G= tf.train.AdamOptimizer(learning_rate).minimize(-loss_G, var_list=G_var_list)"
      ],
      "execution_count": 0,
      "outputs": []
    },
    {
      "cell_type": "markdown",
      "metadata": {
        "id": "dn-n1P6Zk_OR",
        "colab_type": "text"
      },
      "source": [
        "## 5 & 6. 훈련 데이터를 GAN 신경망 모델 학습 및 테스트"
      ]
    },
    {
      "cell_type": "code",
      "metadata": {
        "id": "rnAAbjOOlFUa",
        "colab_type": "code",
        "colab": {
          "base_uri": "https://localhost:8080/",
          "height": 431
        },
        "outputId": "fa6ea2f3-da02-41fb-c2f4-4de8ea5405ad"
      },
      "source": [
        "#신경망 모델 학습\n",
        "sess = tf.Session()\n",
        "sess.run(tf.global_variables_initializer())\n",
        "total_batch = int(mnist.train.num_examples/batch_size)\n",
        "loss_val_D, loss_val_G = 0, 0\n",
        "\n",
        "for epoch in range(total_epoch):\n",
        "  for i in range(total_batch):\n",
        "    batch_xs, batch_ys = mnist.train.next_batch(batch_size)\n",
        "    noise = get_noise(batch_size, n_noise)\n",
        "\n",
        "    # 판별기와 생성기 신경망을 각각 학습시킵니다.\n",
        "    _, loss_val_D = sess.run([train_D, loss_D], feed_dict={X: batch_xs, Z: noise})\n",
        "    _, loss_val_G = sess.run([train_G, loss_G], feed_dict={Z: noise})\n",
        "             \n",
        "  print('Epoch:', '%04d' % epoch,'D loss: {:.4}'.format(loss_val_D), 'G loss: {:.4}'.format(loss_val_G))\n",
        "\n",
        "  # 학습이 되어가는 모습을 보기 위해 주기적으로 이미지를 생성하여 저장\n",
        "  if epoch == 0 or (epoch + 1) % 10 == 0:\n",
        "    sample_size = 10\n",
        "    noise = get_noise(sample_size, n_noise)\n",
        "    samples = sess.run(G, feed_dict={Z: noise})\n",
        "\n",
        "    fig, ax = plt.subplots(1, sample_size, figsize=(sample_size, 1))\n",
        "    for i in range(sample_size):\n",
        "      ax[i].set_axis_off()\n",
        "      ax[i].imshow(np.reshape(samples[i], (28, 28)))\n",
        "    plt.savefig('samples/{}.png'.format(str(epoch).zfill(3)), bbox_inches='tight')\n",
        "    plt.close(fig)\n",
        "    print('최적화 완료!')"
      ],
      "execution_count": 7,
      "outputs": [
        {
          "output_type": "stream",
          "text": [
            "Epoch: 0000 D loss: -0.4711 G loss: -2.266\n",
            "최적화 완료!\n",
            "Epoch: 0001 D loss: -0.1709 G loss: -3.013\n",
            "Epoch: 0002 D loss: -0.1251 G loss: -3.11\n",
            "Epoch: 0003 D loss: -0.3534 G loss: -2.151\n",
            "Epoch: 0004 D loss: -0.3395 G loss: -1.935\n",
            "Epoch: 0005 D loss: -0.3777 G loss: -2.131\n",
            "Epoch: 0006 D loss: -0.2498 G loss: -2.64\n",
            "Epoch: 0007 D loss: -0.1585 G loss: -2.966\n",
            "Epoch: 0008 D loss: -0.3544 G loss: -2.453\n",
            "Epoch: 0009 D loss: -0.1833 G loss: -3.075\n",
            "최적화 완료!\n",
            "Epoch: 0010 D loss: -0.4902 G loss: -2.536\n",
            "Epoch: 0011 D loss: -0.4113 G loss: -2.371\n",
            "Epoch: 0012 D loss: -0.4204 G loss: -2.325\n",
            "Epoch: 0013 D loss: -0.2808 G loss: -2.34\n",
            "Epoch: 0014 D loss: -0.3657 G loss: -2.456\n",
            "Epoch: 0015 D loss: -0.352 G loss: -2.658\n",
            "Epoch: 0016 D loss: -0.4894 G loss: -2.374\n",
            "Epoch: 0017 D loss: -0.4678 G loss: -2.156\n",
            "Epoch: 0018 D loss: -0.2524 G loss: -2.767\n",
            "Epoch: 0019 D loss: -0.4332 G loss: -2.383\n",
            "최적화 완료!\n"
          ],
          "name": "stdout"
        }
      ]
    },
    {
      "cell_type": "code",
      "metadata": {
        "id": "2vjRXv1hqRzH",
        "colab_type": "code",
        "colab": {}
      },
      "source": [
        "for i in range(sample_size):\n",
        "  ax[i].set_axis_off()\n",
        "  ax[i].imshow(np.reshape(mnist.test.images[i], (28, 28)))\n",
        "  plt.show()"
      ],
      "execution_count": 0,
      "outputs": []
    },
    {
      "cell_type": "code",
      "metadata": {
        "id": "Z8ia9g6Iu5d0",
        "colab_type": "code",
        "colab": {}
      },
      "source": [
        ""
      ],
      "execution_count": 0,
      "outputs": []
    }
  ]
}