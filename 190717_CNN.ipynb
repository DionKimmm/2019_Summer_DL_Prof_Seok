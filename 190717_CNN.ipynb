{
  "nbformat": 4,
  "nbformat_minor": 0,
  "metadata": {
    "colab": {
      "name": "190717_CNN.ipynb",
      "version": "0.3.2",
      "provenance": [],
      "include_colab_link": true
    },
    "kernelspec": {
      "name": "python3",
      "display_name": "Python 3"
    },
    "accelerator": "GPU"
  },
  "cells": [
    {
      "cell_type": "markdown",
      "metadata": {
        "id": "view-in-github",
        "colab_type": "text"
      },
      "source": [
        "<a href=\"https://colab.research.google.com/github/DionKimmm/2019_Summer_DL_Prof_Seok/blob/master/190717_CNN.ipynb\" target=\"_parent\"><img src=\"https://colab.research.google.com/assets/colab-badge.svg\" alt=\"Open In Colab\"/></a>"
      ]
    },
    {
      "cell_type": "markdown",
      "metadata": {
        "id": "lEyXgXMRQFr3",
        "colab_type": "text"
      },
      "source": [
        "# CNN을 이용한 MNIST Data Set 식별"
      ]
    },
    {
      "cell_type": "markdown",
      "metadata": {
        "id": "XcjrOVSMK2qv",
        "colab_type": "text"
      },
      "source": [
        "## 순서\n",
        "* 필요한 라이브러리 불러 오기\n",
        "* 데이터 불러오기\n",
        "* CNN 신경망 모델 구성\n",
        "* 최적화\n",
        "* 훈련데이터를 이용한 학습\n",
        "* 테스트 데이터를 통한 최종 식별 결과 확인"
      ]
    },
    {
      "cell_type": "markdown",
      "metadata": {
        "id": "y9nogVpiQV07",
        "colab_type": "text"
      },
      "source": [
        "### 필요한 라이브러리 불러오기"
      ]
    },
    {
      "cell_type": "code",
      "metadata": {
        "id": "SnBadISvQX2-",
        "colab_type": "code",
        "colab": {}
      },
      "source": [
        "import tensorflow as tf\n",
        "import numpy as np\n",
        "from tensorflow.examples.tutorials.mnist import input_data"
      ],
      "execution_count": 0,
      "outputs": []
    },
    {
      "cell_type": "markdown",
      "metadata": {
        "id": "Wq3nJ76dQdlB",
        "colab_type": "text"
      },
      "source": [
        "### 학습, 테스트, 레이블 데이터 불러오기"
      ]
    },
    {
      "cell_type": "code",
      "metadata": {
        "id": "DvkQz_JbQjrO",
        "colab_type": "code",
        "colab": {
          "base_uri": "https://localhost:8080/",
          "height": 451
        },
        "outputId": "776e54b0-454f-4501-88cd-4ee061c4af31"
      },
      "source": [
        "mnist = input_data.read_data_sets(\"./mnist/data/\", one_hot=True)"
      ],
      "execution_count": 2,
      "outputs": [
        {
          "output_type": "stream",
          "text": [
            "WARNING: Logging before flag parsing goes to stderr.\n",
            "W0717 06:25:05.174579 139687511222144 deprecation.py:323] From <ipython-input-2-6fa84048fdd1>:1: read_data_sets (from tensorflow.contrib.learn.python.learn.datasets.mnist) is deprecated and will be removed in a future version.\n",
            "Instructions for updating:\n",
            "Please use alternatives such as official/mnist/dataset.py from tensorflow/models.\n",
            "W0717 06:25:05.180488 139687511222144 deprecation.py:323] From /usr/local/lib/python3.6/dist-packages/tensorflow/contrib/learn/python/learn/datasets/mnist.py:260: maybe_download (from tensorflow.contrib.learn.python.learn.datasets.base) is deprecated and will be removed in a future version.\n",
            "Instructions for updating:\n",
            "Please write your own downloading logic.\n",
            "W0717 06:25:05.181842 139687511222144 deprecation.py:323] From /usr/local/lib/python3.6/dist-packages/tensorflow/contrib/learn/python/learn/datasets/mnist.py:262: extract_images (from tensorflow.contrib.learn.python.learn.datasets.mnist) is deprecated and will be removed in a future version.\n",
            "Instructions for updating:\n",
            "Please use tf.data to implement this functionality.\n"
          ],
          "name": "stderr"
        },
        {
          "output_type": "stream",
          "text": [
            "Extracting ./mnist/data/train-images-idx3-ubyte.gz\n"
          ],
          "name": "stdout"
        },
        {
          "output_type": "stream",
          "text": [
            "W0717 06:25:05.427190 139687511222144 deprecation.py:323] From /usr/local/lib/python3.6/dist-packages/tensorflow/contrib/learn/python/learn/datasets/mnist.py:267: extract_labels (from tensorflow.contrib.learn.python.learn.datasets.mnist) is deprecated and will be removed in a future version.\n",
            "Instructions for updating:\n",
            "Please use tf.data to implement this functionality.\n",
            "W0717 06:25:05.429751 139687511222144 deprecation.py:323] From /usr/local/lib/python3.6/dist-packages/tensorflow/contrib/learn/python/learn/datasets/mnist.py:110: dense_to_one_hot (from tensorflow.contrib.learn.python.learn.datasets.mnist) is deprecated and will be removed in a future version.\n",
            "Instructions for updating:\n",
            "Please use tf.one_hot on tensors.\n",
            "W0717 06:25:05.479436 139687511222144 deprecation.py:323] From /usr/local/lib/python3.6/dist-packages/tensorflow/contrib/learn/python/learn/datasets/mnist.py:290: DataSet.__init__ (from tensorflow.contrib.learn.python.learn.datasets.mnist) is deprecated and will be removed in a future version.\n",
            "Instructions for updating:\n",
            "Please use alternatives such as official/mnist/dataset.py from tensorflow/models.\n"
          ],
          "name": "stderr"
        },
        {
          "output_type": "stream",
          "text": [
            "Extracting ./mnist/data/train-labels-idx1-ubyte.gz\n",
            "Extracting ./mnist/data/t10k-images-idx3-ubyte.gz\n",
            "Extracting ./mnist/data/t10k-labels-idx1-ubyte.gz\n"
          ],
          "name": "stdout"
        }
      ]
    },
    {
      "cell_type": "markdown",
      "metadata": {
        "id": "9LExvLN3Qsaz",
        "colab_type": "text"
      },
      "source": [
        "### CNN 신경망 모델 구성(1)"
      ]
    },
    {
      "cell_type": "code",
      "metadata": {
        "id": "qr2GVlJrQuwG",
        "colab_type": "code",
        "colab": {}
      },
      "source": [
        "# 데이터 정의\n",
        "X = tf.placeholder(tf.float32, [None, 28, 28, 1]) # None : 입력 데이터의 개수는 정해져 있지 않음\n",
        "Y = tf.placeholder(tf.float32, [None, 10])\n",
        "keep_prob = tf.placeholder(tf.float32)"
      ],
      "execution_count": 0,
      "outputs": []
    },
    {
      "cell_type": "markdown",
      "metadata": {
        "id": "QHscw46RRNmV",
        "colab_type": "text"
      },
      "source": [
        "### CNN 신경망 모델 구성(2) : 첫 번째 층의 구성"
      ]
    },
    {
      "cell_type": "code",
      "metadata": {
        "id": "CUZpcr3ERXDR",
        "colab_type": "code",
        "colab": {}
      },
      "source": [
        "W1 = tf.Variable(tf.random_normal([3, 3, 1, 32], stddev=0.01))\n",
        "L1 = tf.nn.conv2d(X, W1, strides=[1, 1, 1, 1], padding='SAME')\n",
        "L1 = tf.nn.relu(L1)\n",
        "L1 = tf.nn.max_pool(L1, ksize=[1, 2, 2, 1], strides=[1, 2, 2, 1], padding='SAME')"
      ],
      "execution_count": 0,
      "outputs": []
    },
    {
      "cell_type": "markdown",
      "metadata": {
        "id": "ObFS9pteVVzZ",
        "colab_type": "text"
      },
      "source": [
        "### CNN 신경망 모델 구성(3) : 두 번째 층의 구성"
      ]
    },
    {
      "cell_type": "code",
      "metadata": {
        "id": "uZmA3pviVi7G",
        "colab_type": "code",
        "colab": {}
      },
      "source": [
        "W2 = tf.Variable(tf.random_normal([3, 3, 32, 64], stddev=0.01))\n",
        "L2 = tf.nn.conv2d(L1, W2, strides=[1, 1, 1, 1], padding='SAME')\n",
        "L2 = tf.nn.relu(L2)\n",
        "L2 = tf.nn.max_pool(L2, ksize=[1, 2, 2, 1], strides=[1, 2, 2, 1], padding='SAME')"
      ],
      "execution_count": 0,
      "outputs": []
    },
    {
      "cell_type": "code",
      "metadata": {
        "id": "J7SiteDCVyGp",
        "colab_type": "code",
        "colab": {}
      },
      "source": [
        "### CNN 신경망 모델 구성(4) : 세 번째 층의 구성 : Fully Connected Layer"
      ],
      "execution_count": 0,
      "outputs": []
    },
    {
      "cell_type": "code",
      "metadata": {
        "id": "dyXzVc1HV3d8",
        "colab_type": "code",
        "colab": {
          "base_uri": "https://localhost:8080/",
          "height": 35
        },
        "outputId": "a55ba208-991e-41c0-96d6-4675351682cb"
      },
      "source": [
        "# L2의 모양이 뭐지?\n",
        "print(L2)"
      ],
      "execution_count": 7,
      "outputs": [
        {
          "output_type": "stream",
          "text": [
            "Tensor(\"MaxPool_1:0\", shape=(?, 7, 7, 64), dtype=float32)\n"
          ],
          "name": "stdout"
        }
      ]
    },
    {
      "cell_type": "code",
      "metadata": {
        "id": "vkjh0SQSWHQB",
        "colab_type": "code",
        "colab": {
          "base_uri": "https://localhost:8080/",
          "height": 91
        },
        "outputId": "890ef077-6cdb-47db-8fbb-b69156c07315"
      },
      "source": [
        "W3 = tf.Variable(tf.random_normal([7 * 7 * 64, 256], stddev=0.01))\n",
        "L3 = tf.reshape(L2, [-1, 7*7*64])\n",
        "L3 = tf.matmul(L3, W3)\n",
        "L3 = tf.nn.relu(L3)\n",
        "L3 = tf.nn.dropout(L3, keep_prob) # dropout"
      ],
      "execution_count": 8,
      "outputs": [
        {
          "output_type": "stream",
          "text": [
            "W0717 06:25:05.778964 139687511222144 deprecation.py:506] From <ipython-input-8-f10978440ea1>:5: calling dropout (from tensorflow.python.ops.nn_ops) with keep_prob is deprecated and will be removed in a future version.\n",
            "Instructions for updating:\n",
            "Please use `rate` instead of `keep_prob`. Rate should be set to `rate = 1 - keep_prob`.\n"
          ],
          "name": "stderr"
        }
      ]
    },
    {
      "cell_type": "code",
      "metadata": {
        "id": "PhDv8nk8WZQ5",
        "colab_type": "code",
        "colab": {}
      },
      "source": [
        "W4 = tf.Variable(tf.random_normal([256, 10], stddev=0.01))\n",
        "model = tf.matmul(L3, W4)"
      ],
      "execution_count": 0,
      "outputs": []
    },
    {
      "cell_type": "markdown",
      "metadata": {
        "id": "j8AEp6A_Wj7D",
        "colab_type": "text"
      },
      "source": [
        "### 최적화"
      ]
    },
    {
      "cell_type": "code",
      "metadata": {
        "id": "_mLhzQKtWpHc",
        "colab_type": "code",
        "colab": {
          "base_uri": "https://localhost:8080/",
          "height": 181
        },
        "outputId": "78c046a4-3570-4dae-ba3c-f9126ac08d33"
      },
      "source": [
        "cost = tf.reduce_mean(tf.nn.softmax_cross_entropy_with_logits(logits=model, labels=Y))\n",
        "optimizer = tf.train.AdamOptimizer(0.001).minimize(cost)"
      ],
      "execution_count": 10,
      "outputs": [
        {
          "output_type": "stream",
          "text": [
            "W0717 06:25:05.821793 139687511222144 deprecation.py:323] From <ipython-input-10-b021224dac13>:1: softmax_cross_entropy_with_logits (from tensorflow.python.ops.nn_ops) is deprecated and will be removed in a future version.\n",
            "Instructions for updating:\n",
            "\n",
            "Future major versions of TensorFlow will allow gradients to flow\n",
            "into the labels input on backprop by default.\n",
            "\n",
            "See `tf.nn.softmax_cross_entropy_with_logits_v2`.\n",
            "\n"
          ],
          "name": "stderr"
        }
      ]
    },
    {
      "cell_type": "markdown",
      "metadata": {
        "id": "HMCmCED8W2LR",
        "colab_type": "text"
      },
      "source": [
        "### 훈련 데이터를 신경망 모델 학습"
      ]
    },
    {
      "cell_type": "code",
      "metadata": {
        "id": "MC4uvsjSXDQa",
        "colab_type": "code",
        "colab": {
          "base_uri": "https://localhost:8080/",
          "height": 305
        },
        "outputId": "a12fe4da-e9e0-46e8-f79d-af626235c18d"
      },
      "source": [
        "init = tf.global_variables_initializer()\n",
        "sess = tf.Session()\n",
        "sess.run(init)\n",
        "batch_size = 100\n",
        "total_batch = int(mnist.train.num_examples / batch_size)\n",
        "\n",
        "for epoch in range(15):\n",
        "  total_cost = 0\n",
        "  for i in range(total_batch):\n",
        "    batch_xs, batch_ys = mnist.train.next_batch(batch_size)\n",
        "    batch_xs = batch_xs.reshape(-1, 28, 28, 1)\n",
        "    _, cost_val = sess.run([optimizer, cost], feed_dict={X: batch_xs, Y: batch_ys, keep_prob: 0.7})\n",
        "    total_cost += cost_val\n",
        "  \n",
        "  print('Epoch:', '%04d' % (epoch + 1), 'Avg. cost = ', '{:.3f}'.format(total_cost / total_batch))\n",
        "\n",
        "print('최적화 완료!')"
      ],
      "execution_count": 11,
      "outputs": [
        {
          "output_type": "stream",
          "text": [
            "Epoch: 0001 Avg. cost =  0.339\n",
            "Epoch: 0002 Avg. cost =  0.107\n",
            "Epoch: 0003 Avg. cost =  0.076\n",
            "Epoch: 0004 Avg. cost =  0.061\n",
            "Epoch: 0005 Avg. cost =  0.051\n",
            "Epoch: 0006 Avg. cost =  0.042\n",
            "Epoch: 0007 Avg. cost =  0.036\n",
            "Epoch: 0008 Avg. cost =  0.032\n",
            "Epoch: 0009 Avg. cost =  0.030\n",
            "Epoch: 0010 Avg. cost =  0.026\n",
            "Epoch: 0011 Avg. cost =  0.021\n",
            "Epoch: 0012 Avg. cost =  0.019\n",
            "Epoch: 0013 Avg. cost =  0.020\n",
            "Epoch: 0014 Avg. cost =  0.017\n",
            "Epoch: 0015 Avg. cost =  0.016\n",
            "최적화 완료!\n"
          ],
          "name": "stdout"
        }
      ]
    },
    {
      "cell_type": "markdown",
      "metadata": {
        "id": "bNqgHAFLXrjR",
        "colab_type": "text"
      },
      "source": [
        "### 테스트 데이터를 이용한 최종 식별 결과 확인"
      ]
    },
    {
      "cell_type": "code",
      "metadata": {
        "id": "hM9xeS7UX4Fi",
        "colab_type": "code",
        "colab": {
          "base_uri": "https://localhost:8080/",
          "height": 35
        },
        "outputId": "c93141f2-b794-4ff2-b5d7-9bddfde6f5ae"
      },
      "source": [
        "is_correct = tf.equal(tf.argmax(model, 1), tf.argmax(Y, 1))\n",
        "accuracy = tf.reduce_mean(tf.cast(is_correct, tf.float32))\n",
        "print('정확도:', sess.run(accuracy, feed_dict={X: mnist.test.images.reshape(-1, 28, 28, 1), Y: mnist.test.labels, keep_prob: 1}))"
      ],
      "execution_count": 12,
      "outputs": [
        {
          "output_type": "stream",
          "text": [
            "정확도: 0.9914\n"
          ],
          "name": "stdout"
        }
      ]
    },
    {
      "cell_type": "code",
      "metadata": {
        "id": "FgUhCG5MYOXA",
        "colab_type": "code",
        "colab": {}
      },
      "source": [
        ""
      ],
      "execution_count": 0,
      "outputs": []
    }
  ]
}