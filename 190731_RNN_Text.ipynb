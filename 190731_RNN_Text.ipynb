{
  "nbformat": 4,
  "nbformat_minor": 0,
  "metadata": {
    "colab": {
      "name": "190731_RNN_Text.ipynb",
      "version": "0.3.2",
      "provenance": [],
      "include_colab_link": true
    },
    "kernelspec": {
      "name": "python3",
      "display_name": "Python 3"
    },
    "accelerator": "GPU"
  },
  "cells": [
    {
      "cell_type": "markdown",
      "metadata": {
        "id": "view-in-github",
        "colab_type": "text"
      },
      "source": [
        "<a href=\"https://colab.research.google.com/github/DionKimmm/2019_Summer_DL_Prof_Seok/blob/master/190731_RNN_Text.ipynb\" target=\"_parent\"><img src=\"https://colab.research.google.com/assets/colab-badge.svg\" alt=\"Open In Colab\"/></a>"
      ]
    },
    {
      "cell_type": "markdown",
      "metadata": {
        "id": "fnY0z37xO_s1",
        "colab_type": "text"
      },
      "source": [
        "* 4글자의 영단어를 이용해 3글자의 x데이터로 4번째 글자인 y데이터를 완성시키는 문제"
      ]
    },
    {
      "cell_type": "markdown",
      "metadata": {
        "id": "lLY1ApPWNNzd",
        "colab_type": "text"
      },
      "source": [
        "# 준비물\n",
        "* 원핫 인코딩 사용을 위해 연관 배열을 만든다.\n",
        "* {'a': 0, 'b': 1, 'c': 2, ..., 'z':25}\n"
      ]
    },
    {
      "cell_type": "code",
      "metadata": {
        "id": "s-i7MdjASOpx",
        "colab_type": "code",
        "colab": {}
      },
      "source": [
        "import tensorflow as tf\n",
        "import numpy as np"
      ],
      "execution_count": 0,
      "outputs": []
    },
    {
      "cell_type": "code",
      "metadata": {
        "id": "0BxVMLn4OfZY",
        "colab_type": "code",
        "colab": {}
      },
      "source": [
        "char_arr = ['a', 'b', 'c', 'd', 'e', 'f', 'g', 'h', 'i', 'j', 'k', 'l', 'm', 'n', 'o', 'p', 'q', 'r', 's', 't', 'u', 'v', 'w', 'x', 'y', 'z']\n",
        "\n",
        "num_dic = {n: i for i, n in enumerate(char_arr)}\n",
        "dic_len = len(num_dic)"
      ],
      "execution_count": 0,
      "outputs": []
    },
    {
      "cell_type": "code",
      "metadata": {
        "id": "SQO8PBgpOrkL",
        "colab_type": "code",
        "colab": {
          "base_uri": "https://localhost:8080/",
          "height": 55
        },
        "outputId": "ae200ce4-7ac0-41dc-d7ea-e93b036466ad"
      },
      "source": [
        "print(num_dic)"
      ],
      "execution_count": 3,
      "outputs": [
        {
          "output_type": "stream",
          "text": [
            "{'a': 0, 'b': 1, 'c': 2, 'd': 3, 'e': 4, 'f': 5, 'g': 6, 'h': 7, 'i': 8, 'j': 9, 'k': 10, 'l': 11, 'm': 12, 'n': 13, 'o': 14, 'p': 15, 'q': 16, 'r': 17, 's': 18, 't': 19, 'u': 20, 'v': 21, 'w': 22, 'x': 23, 'y': 24, 'z': 25}\n"
          ],
          "name": "stdout"
        }
      ]
    },
    {
      "cell_type": "code",
      "metadata": {
        "id": "OhnhuNGgOulV",
        "colab_type": "code",
        "colab": {
          "base_uri": "https://localhost:8080/",
          "height": 35
        },
        "outputId": "1c0f112c-7145-42ff-ed60-bf1b5e265357"
      },
      "source": [
        "print(dic_len)"
      ],
      "execution_count": 4,
      "outputs": [
        {
          "output_type": "stream",
          "text": [
            "26\n"
          ],
          "name": "stdout"
        }
      ]
    },
    {
      "cell_type": "code",
      "metadata": {
        "id": "kPDUm_kYOvrY",
        "colab_type": "code",
        "colab": {}
      },
      "source": [
        "# wor -> X, d -> Y\n",
        "seq_data = ['word', 'wood', 'deep', 'dive', 'cold', 'cool', 'load', 'love', 'kiss', 'kind']"
      ],
      "execution_count": 0,
      "outputs": []
    },
    {
      "cell_type": "code",
      "metadata": {
        "id": "E1vuDdX3RqMh",
        "colab_type": "code",
        "colab": {}
      },
      "source": [
        "def make_batch(seq_data):\n",
        "  input_batch = []\n",
        "  target_batch = []\n",
        "    \n",
        "  for seq in seq_data:\n",
        "    # 여기서 생성하는 input_batch 와 target_batch 는 알파벳 배열의 인덱스 번호\n",
        "    # [22, 14, 17] [22, 14, 14] [3, 4, 4] [3, 8, 21] ...\n",
        "    input = [num_dic[n] for n in seq[:-1]]\n",
        "    # 3, 3, 15, 4, 3 ...\n",
        "    target = num_dic[seq[-1]]\n",
        "    # one-hot 인코딩\n",
        "    # if input is [0, 1, 2]:\n",
        "    # [[ 1.  0.  0.  0.  0.  0.  0.  0.  0.  0.],  [ 0.  1.  0.  0.  0.  0.  0.  0.  0.  0.], [ 0.  0.  1.  0.  0.  0.  0.  0.  0.  0.]]\n",
        "    input_batch.append(np.eye(dic_len)[input])\n",
        "    target_batch.append(target)\n",
        "\n",
        "  return input_batch, target_batch\n"
      ],
      "execution_count": 0,
      "outputs": []
    },
    {
      "cell_type": "code",
      "metadata": {
        "id": "YzSoAORQRsdR",
        "colab_type": "code",
        "colab": {}
      },
      "source": [
        "# 입력을 다이나믹하게 하려면??"
      ],
      "execution_count": 0,
      "outputs": []
    },
    {
      "cell_type": "markdown",
      "metadata": {
        "id": "xdIqo4mTSAzg",
        "colab_type": "text"
      },
      "source": [
        "# 학습, 테스트, 레이블 데이터 불러오기"
      ]
    },
    {
      "cell_type": "code",
      "metadata": {
        "id": "XhIgAe2gSFZC",
        "colab_type": "code",
        "colab": {}
      },
      "source": [
        "# 옵션 설정\n",
        "learning_rate = 0.01\n",
        "n_hidden = 128\n",
        "total_epoch = 30\n",
        "n_step = 3         # 타입 스텝: [1 2 3] => 3, RNN 을 구성하는 시퀀스의 갯수\n",
        "\n",
        "# 입력값 크기. 알파벳에 대한 one-hot 인코딩이므로 26개, 출력값도 동일하게 26개\n",
        "n_input = n_class = dic_len\n"
      ],
      "execution_count": 0,
      "outputs": []
    },
    {
      "cell_type": "markdown",
      "metadata": {
        "id": "wx77vZYtSFuw",
        "colab_type": "text"
      },
      "source": [
        "# 신경망 모델"
      ]
    },
    {
      "cell_type": "markdown",
      "metadata": {
        "id": "x6B81EuzSlxA",
        "colab_type": "text"
      },
      "source": [
        " 비용함수에 sparse_softmax_cross_entropy_with_logits 을 사용하므로\n",
        "출력값과의 계산을 위한 원본값의 형태는 one-hot vector가 아니라 인덱스 숫자를 그대로 사용하기 때문에 다음처럼 하나의 값만 있는 1차원 배열을 입력값으로 받는다. \n",
        "* [3] [3] [15] [4] ... <br>\n",
        "기존처럼 one-hot 인코딩을 사용한다면 입력값의 형태는 [None, n_class] 이여야 한다. \n",
        "* W와 b를 사용하지 않고 아래와 같이 tf.layers.dense 함수를 사용해도 됨.\n",
        "* model = tf.layers.dense(outputs, n_class)\n"
      ]
    },
    {
      "cell_type": "code",
      "metadata": {
        "id": "4Ehj0yeKSM0B",
        "colab_type": "code",
        "colab": {
          "base_uri": "https://localhost:8080/",
          "height": 325
        },
        "outputId": "6d304c63-5181-4dfc-e114-9e3f63417648"
      },
      "source": [
        "X = tf.placeholder(tf.float32, [None, n_step, n_input])\n",
        "Y = tf.placeholder(tf.int32, [None])\n",
        "\n",
        "W = tf.Variable(tf.random_normal([n_hidden, n_class]))\n",
        "b = tf.Variable(tf.random_normal([n_class]))\n",
        "\n",
        "# RNN 셀을 생성합니다.\n",
        "cell1 = tf.nn.rnn_cell.BasicLSTMCell(n_hidden)\n",
        "cell1 = tf.nn.rnn_cell.DropoutWrapper(cell1, output_keep_prob=0.5) # Dropout 기법\n",
        "cell2 = tf.nn.rnn_cell.BasicLSTMCell(n_hidden)\n",
        "multi_cell = tf.nn.rnn_cell.MultiRNNCell([cell1, cell2])\n",
        "\n",
        "# tf.nn.dynamic_rnn 함수를 이용해 순환 신경망을 만듭니다.\n",
        "outputs, states = tf.nn.dynamic_rnn(multi_cell, X, dtype=tf.float32)\n",
        "\n",
        "# 최종 결과는 one-hot 인코딩 형식으로 만듭니다\n",
        "outputs = tf.transpose(outputs, [1, 0, 2])\n",
        "outputs = outputs[-1]\n",
        "model = tf.matmul(outputs, W) + b"
      ],
      "execution_count": 9,
      "outputs": [
        {
          "output_type": "stream",
          "text": [
            "WARNING: Logging before flag parsing goes to stderr.\n",
            "W0731 04:33:01.240673 140318481389440 deprecation.py:323] From <ipython-input-9-013f09025ae6>:8: BasicLSTMCell.__init__ (from tensorflow.python.ops.rnn_cell_impl) is deprecated and will be removed in a future version.\n",
            "Instructions for updating:\n",
            "This class is equivalent as tf.keras.layers.LSTMCell, and will be replaced by that in Tensorflow 2.0.\n",
            "W0731 04:33:01.246411 140318481389440 deprecation.py:323] From <ipython-input-9-013f09025ae6>:11: MultiRNNCell.__init__ (from tensorflow.python.ops.rnn_cell_impl) is deprecated and will be removed in a future version.\n",
            "Instructions for updating:\n",
            "This class is equivalent as tf.keras.layers.StackedRNNCells, and will be replaced by that in Tensorflow 2.0.\n",
            "W0731 04:33:01.248425 140318481389440 deprecation.py:323] From <ipython-input-9-013f09025ae6>:14: dynamic_rnn (from tensorflow.python.ops.rnn) is deprecated and will be removed in a future version.\n",
            "Instructions for updating:\n",
            "Please use `keras.layers.RNN(cell)`, which is equivalent to this API\n",
            "W0731 04:33:01.580417 140318481389440 deprecation.py:506] From /usr/local/lib/python3.6/dist-packages/tensorflow/python/ops/init_ops.py:1251: calling VarianceScaling.__init__ (from tensorflow.python.ops.init_ops) with dtype is deprecated and will be removed in a future version.\n",
            "Instructions for updating:\n",
            "Call initializer instance with the dtype argument instead of passing it to the constructor\n",
            "W0731 04:33:01.593855 140318481389440 deprecation.py:506] From /usr/local/lib/python3.6/dist-packages/tensorflow/python/ops/rnn_cell_impl.py:738: calling Zeros.__init__ (from tensorflow.python.ops.init_ops) with dtype is deprecated and will be removed in a future version.\n",
            "Instructions for updating:\n",
            "Call initializer instance with the dtype argument instead of passing it to the constructor\n"
          ],
          "name": "stderr"
        }
      ]
    },
    {
      "cell_type": "markdown",
      "metadata": {
        "id": "AdgYGciKSNSQ",
        "colab_type": "text"
      },
      "source": [
        "# 손실함수 및 최적화"
      ]
    },
    {
      "cell_type": "code",
      "metadata": {
        "id": "5NnGnZdbS97f",
        "colab_type": "code",
        "colab": {}
      },
      "source": [
        "cost = tf.reduce_mean(tf.nn.sparse_softmax_cross_entropy_with_logits(logits=model, labels=Y))\n",
        "optimizer = tf.train.AdamOptimizer(learning_rate).minimize(cost)\n"
      ],
      "execution_count": 0,
      "outputs": []
    },
    {
      "cell_type": "markdown",
      "metadata": {
        "id": "iISolRyUS-iQ",
        "colab_type": "text"
      },
      "source": [
        "# 훈련 데이터를 신경망 모델 학습"
      ]
    },
    {
      "cell_type": "code",
      "metadata": {
        "id": "g9UaSZNCTD-v",
        "colab_type": "code",
        "colab": {
          "base_uri": "https://localhost:8080/",
          "height": 575
        },
        "outputId": "1693757a-c5bc-4189-d91c-7b719aa37d6f"
      },
      "source": [
        "sess = tf.Session()\n",
        "sess.run(tf.global_variables_initializer())\n",
        "\n",
        "input_batch, target_batch = make_batch(seq_data)\n",
        "\n",
        "for epoch in range(total_epoch):\n",
        "    _, loss = sess.run([optimizer, cost], feed_dict={X: input_batch, Y: target_batch})\n",
        "\n",
        "    print('Epoch:', '%04d' % (epoch + 1), 'cost =', '{:.6f}'.format(loss))\n",
        "\n",
        "print('최적화 완료!')\n"
      ],
      "execution_count": 11,
      "outputs": [
        {
          "output_type": "stream",
          "text": [
            "Epoch: 0001 cost = 3.008123\n",
            "Epoch: 0002 cost = 2.049457\n",
            "Epoch: 0003 cost = 1.559072\n",
            "Epoch: 0004 cost = 1.039742\n",
            "Epoch: 0005 cost = 1.021140\n",
            "Epoch: 0006 cost = 0.465791\n",
            "Epoch: 0007 cost = 0.449311\n",
            "Epoch: 0008 cost = 0.475116\n",
            "Epoch: 0009 cost = 0.302419\n",
            "Epoch: 0010 cost = 0.199285\n",
            "Epoch: 0011 cost = 0.467535\n",
            "Epoch: 0012 cost = 0.347861\n",
            "Epoch: 0013 cost = 0.134216\n",
            "Epoch: 0014 cost = 0.120158\n",
            "Epoch: 0015 cost = 0.208308\n",
            "Epoch: 0016 cost = 0.260094\n",
            "Epoch: 0017 cost = 0.163456\n",
            "Epoch: 0018 cost = 0.206605\n",
            "Epoch: 0019 cost = 0.037248\n",
            "Epoch: 0020 cost = 0.244063\n",
            "Epoch: 0021 cost = 0.282579\n",
            "Epoch: 0022 cost = 0.052751\n",
            "Epoch: 0023 cost = 0.079461\n",
            "Epoch: 0024 cost = 0.161344\n",
            "Epoch: 0025 cost = 0.089042\n",
            "Epoch: 0026 cost = 0.066235\n",
            "Epoch: 0027 cost = 0.009713\n",
            "Epoch: 0028 cost = 0.013642\n",
            "Epoch: 0029 cost = 0.149451\n",
            "Epoch: 0030 cost = 0.008266\n",
            "최적화 완료!\n"
          ],
          "name": "stdout"
        }
      ]
    },
    {
      "cell_type": "markdown",
      "metadata": {
        "id": "aFaLXZZtTEXu",
        "colab_type": "text"
      },
      "source": [
        "# 테스트 데이터를 이용한 최종 식별 결과 확인"
      ]
    },
    {
      "cell_type": "code",
      "metadata": {
        "id": "wJGJ3QsfTH_f",
        "colab_type": "code",
        "colab": {
          "base_uri": "https://localhost:8080/",
          "height": 107
        },
        "outputId": "46d39968-5942-4aaa-c25c-032938946e71"
      },
      "source": [
        "# 레이블값이 정수이므로 예측값도 정수로 변경해줍니다.\n",
        "prediction = tf.cast(tf.argmax(model, 1), tf.int32)\n",
        "\n",
        "# one-hot 인코딩이 아니므로 입력값을 그대로 비교합니다.\n",
        "prediction_check = tf.equal(prediction, Y)\n",
        "accuracy = tf.reduce_mean(tf.cast(prediction_check, tf.float32))\n",
        "\n",
        "input_batch, target_batch = make_batch(seq_data)\n",
        "\n",
        "predict, accuracy_val = sess.run([prediction, accuracy], feed_dict={X: input_batch, Y: target_batch})\n",
        "\n",
        "predict_words = []\n",
        "for idx, val in enumerate(seq_data):\n",
        "    last_char = char_arr[predict[idx]]\n",
        "    predict_words.append(val[:3] + last_char)\n",
        "\n",
        "print('\\n=== 예측 결과 ===')\n",
        "print('입력값:', [w[:3] + ' ' for w in seq_data])\n",
        "print('예측값:', predict_words)\n",
        "print('정확도:', accuracy_val) "
      ],
      "execution_count": 12,
      "outputs": [
        {
          "output_type": "stream",
          "text": [
            "\n",
            "=== 예측 결과 ===\n",
            "입력값: ['wor ', 'woo ', 'dee ', 'div ', 'col ', 'coo ', 'loa ', 'lov ', 'kis ', 'kin ']\n",
            "예측값: ['word', 'wood', 'deep', 'dive', 'cold', 'cool', 'load', 'love', 'kiss', 'kind']\n",
            "정확도: 1.0\n"
          ],
          "name": "stdout"
        }
      ]
    },
    {
      "cell_type": "code",
      "metadata": {
        "id": "ZFdZc08LTKTf",
        "colab_type": "code",
        "colab": {}
      },
      "source": [
        ""
      ],
      "execution_count": 0,
      "outputs": []
    }
  ]
}