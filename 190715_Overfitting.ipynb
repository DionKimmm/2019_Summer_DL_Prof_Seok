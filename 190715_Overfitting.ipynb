{
  "nbformat": 4,
  "nbformat_minor": 0,
  "metadata": {
    "colab": {
      "name": "190715_Overfitting.ipynb",
      "version": "0.3.2",
      "provenance": [],
      "collapsed_sections": [],
      "include_colab_link": true
    },
    "kernelspec": {
      "name": "python3",
      "display_name": "Python 3"
    },
    "accelerator": "GPU"
  },
  "cells": [
    {
      "cell_type": "markdown",
      "metadata": {
        "id": "view-in-github",
        "colab_type": "text"
      },
      "source": [
        "<a href=\"https://colab.research.google.com/github/DionKimmm/2019_Summer_DL_Prof_Seok/blob/master/190715_Overfitting.ipynb\" target=\"_parent\"><img src=\"https://colab.research.google.com/assets/colab-badge.svg\" alt=\"Open In Colab\"/></a>"
      ]
    },
    {
      "cell_type": "markdown",
      "metadata": {
        "id": "xBcBVnhbVlyA",
        "colab_type": "text"
      },
      "source": [
        "# 3 ways how to prevent Overfitting\n",
        "* data_augmentation\n",
        "* Dropout\n",
        "* batch_normalization"
      ]
    },
    {
      "cell_type": "markdown",
      "metadata": {
        "id": "q8KSmdyuVbeJ",
        "colab_type": "text"
      },
      "source": [
        "# MNIST using Dropout"
      ]
    },
    {
      "cell_type": "code",
      "metadata": {
        "id": "_F2mt1UEPV_a",
        "colab_type": "code",
        "outputId": "1f4e578e-2cef-468f-934e-19749e88102e",
        "colab": {
          "base_uri": "https://localhost:8080/",
          "height": 523
        }
      },
      "source": [
        "import tensorflow as tf\n",
        "import numpy as np\n",
        "import matplotlib.pyplot as plt\n",
        "from tensorflow.examples.tutorials.mnist import input_data\n",
        "\n",
        "mnist = input_data.read_data_sets(\"./mnist/data/\", one_hot=True)\n",
        "#신경망 모델 구성\n",
        "X = tf.placeholder(tf.float32, [None, 784])\n",
        "Y = tf.placeholder(tf.float32, [None, 10])\n",
        "keep_prob = tf.placeholder(tf.float32)\n",
        "W1 = tf.Variable(tf.random_normal([784, 256], stddev=0.01))\n",
        "L1 = tf.nn.relu(tf.matmul(X, W1))\n",
        "L1 = tf.nn.dropout(L1, keep_prob)\n",
        "W2 = tf.Variable(tf.random_normal([256, 256], stddev=0.01))\n",
        "L2 = tf.nn.relu(tf.matmul(L1, W2))\n",
        "L2 = tf.nn.dropout(L2, keep_prob)\n",
        "W3 = tf.Variable(tf.random_normal([256, 10], stddev=0.01))\n",
        "\n",
        "# model = tf.matmul(L2, W3)\n",
        "# model = tf.layers.dense(inputs=L2, units=10)\n",
        "\n",
        "L1 = tf.layers.dense(inputs=X, units=256, activation=tf.)\n",
        "\n",
        "cost=tf.reduce_mean(tf.nn.softmax_cross_entropy_with_logits(logits=model, labels=Y))\n",
        "optimizer = tf.train.AdamOptimizer(0.001).minimize(cost)\n",
        "#신경망 모델 학습\n",
        "init = tf.global_variables_initializer()\n",
        "sess = tf.Session()\n",
        "sess.run(init)\n",
        "batch_size = 100\n",
        "total_batch = int(mnist.train.num_examples / batch_size)\n",
        "for epoch in range(15):\n",
        "  \n",
        "  total_cost = 0\n",
        "  \n",
        "  for i in range(total_batch):\n",
        "    batch_xs, batch_ys = mnist.train.next_batch(batch_size) \n",
        "    _, cost_val = sess.run([optimizer, cost], feed_dict={X: batch_xs, Y: batch_ys, keep_prob: 0.7})\n",
        "    total_cost += cost_val\n",
        "  \n",
        "  print('Epoch:', '%04d' % (epoch + 1), 'Avg. cost =', '{:.3f}'.format(total_cost / total_batch))\n",
        "\n",
        "print('최적화 완료!')\n",
        "#결과 확인\n",
        "is_correct = tf.equal(tf.argmax(model, 1), tf.argmax(Y, 1))\n",
        "accuracy = tf.reduce_mean(tf.cast(is_correct, tf.float32))\n",
        "print('정확도:',sess.run(accuracy,feed_dict={X: mnist.test.images, Y: mnist.test.labels, keep_prob: 1}))"
      ],
      "execution_count": 0,
      "outputs": [
        {
          "output_type": "stream",
          "text": [
            "Extracting ./mnist/data/train-images-idx3-ubyte.gz\n",
            "Extracting ./mnist/data/train-labels-idx1-ubyte.gz\n",
            "Extracting ./mnist/data/t10k-images-idx3-ubyte.gz\n",
            "Extracting ./mnist/data/t10k-labels-idx1-ubyte.gz\n"
          ],
          "name": "stdout"
        },
        {
          "output_type": "stream",
          "text": [
            "W0715 06:15:18.057569 139772666840960 deprecation.py:323] From <ipython-input-3-3aa1f96af138>:20: dense (from tensorflow.python.layers.core) is deprecated and will be removed in a future version.\n",
            "Instructions for updating:\n",
            "Use keras.layers.dense instead.\n",
            "W0715 06:15:18.067771 139772666840960 deprecation.py:506] From /usr/local/lib/python3.6/dist-packages/tensorflow/python/ops/init_ops.py:1251: calling VarianceScaling.__init__ (from tensorflow.python.ops.init_ops) with dtype is deprecated and will be removed in a future version.\n",
            "Instructions for updating:\n",
            "Call initializer instance with the dtype argument instead of passing it to the constructor\n"
          ],
          "name": "stderr"
        },
        {
          "output_type": "stream",
          "text": [
            "Epoch: 0001 Avg. cost = 0.348\n",
            "Epoch: 0002 Avg. cost = 0.153\n",
            "Epoch: 0003 Avg. cost = 0.116\n",
            "Epoch: 0004 Avg. cost = 0.093\n",
            "Epoch: 0005 Avg. cost = 0.082\n",
            "Epoch: 0006 Avg. cost = 0.070\n",
            "Epoch: 0007 Avg. cost = 0.065\n",
            "Epoch: 0008 Avg. cost = 0.059\n",
            "Epoch: 0009 Avg. cost = 0.052\n",
            "Epoch: 0010 Avg. cost = 0.048\n",
            "Epoch: 0011 Avg. cost = 0.045\n",
            "Epoch: 0012 Avg. cost = 0.043\n",
            "Epoch: 0013 Avg. cost = 0.040\n",
            "Epoch: 0014 Avg. cost = 0.039\n",
            "Epoch: 0015 Avg. cost = 0.036\n",
            "최적화 완료!\n",
            "정확도: 0.9833\n"
          ],
          "name": "stdout"
        }
      ]
    },
    {
      "cell_type": "markdown",
      "metadata": {
        "id": "g8RITsRBVhf-",
        "colab_type": "text"
      },
      "source": [
        "# MNIST using batch_normalization"
      ]
    },
    {
      "cell_type": "code",
      "metadata": {
        "id": "rH3WIj-RP31-",
        "colab_type": "code",
        "outputId": "19c3166c-a823-4088-9892-b599e6adb9e3",
        "colab": {
          "base_uri": "https://localhost:8080/",
          "height": 395
        }
      },
      "source": [
        "import tensorflow as tf\n",
        "import numpy as np\n",
        "import matplotlib.pyplot as plt\n",
        "from tensorflow.examples.tutorials.mnist import input_data\n",
        "\n",
        "mnist = input_data.read_data_sets(\"./mnist/data/\", one_hot=True)\n",
        "\n",
        "\n",
        "#신경망 모델 구성\n",
        "X = tf.placeholder(tf.float32, [None, 784])\n",
        "Y = tf.placeholder(tf.float32, [None, 10])\n",
        "keep_prob = tf.placeholder(tf.float32)\n",
        "\n",
        "W1 = tf.Variable(tf.random_normal([784, 256], stddev=0.01))\n",
        "L1 = tf.nn.relu(tf.matmul(X, W1))\n",
        "tf.layers.batch_normalization(L1, training=False)\n",
        "\n",
        "W2 = tf.Variable(tf.random_normal([256, 256], stddev=0.01))\n",
        "L2= tf.nn.relu(tf.matmul(L1, W2))\n",
        "tf.layers.batch_normalization(L2, training=False)\n",
        "\n",
        "W3 = tf.Variable(tf.random_normal([256, 10], stddev=0.01))\n",
        "model = tf.matmul(L2, W3)\n",
        "\n",
        "cost = tf.reduce_mean(tf.nn.softmax_cross_entropy_with_logits(logits=model, labels=Y))\n",
        "optimizer = tf.train.AdamOptimizer(0.001).minimize(cost)\n",
        "\n",
        "#신경망 모델 학습\n",
        "init = tf.global_variables_initializer()\n",
        "sess = tf.Session()\n",
        "sess.run(init)\n",
        "\n",
        "batch_size = 100\n",
        "total_batch = int(mnist.train.num_examples / batch_size)\n",
        "\n",
        "for epoch in range(15):\n",
        "  total_cost = 0\n",
        "  \n",
        "  for i in range(total_batch):\n",
        "    batch_xs, batch_ys = mnist.train.next_batch(batch_size)\n",
        "    \n",
        "    _, cost_val = sess.run([optimizer, cost], feed_dict={X: batch_xs, Y: batch_ys})\n",
        "    total_cost += cost_val\n",
        "    \n",
        "  print('Epoch:', '%04d' % (epoch + 1), 'Avg. cost =', '{:.3f}'.format(total_cost / total_batch))\n",
        "  \n",
        "print('최적화 완료!')\n",
        "\n",
        "#결과 확인\n",
        "is_correct = tf.equal(tf.argmax(model, 1), tf.argmax(Y, 1))\n",
        "accuracy = tf.reduce_mean(tf.cast(is_correct, tf.float32))\n",
        "print('정확도:', sess.run(accuracy, feed_dict={X: mnist.test.images, Y:mnist.test.labels}))\n"
      ],
      "execution_count": 0,
      "outputs": [
        {
          "output_type": "stream",
          "text": [
            "Extracting ./mnist/data/train-images-idx3-ubyte.gz\n",
            "Extracting ./mnist/data/train-labels-idx1-ubyte.gz\n",
            "Extracting ./mnist/data/t10k-images-idx3-ubyte.gz\n",
            "Extracting ./mnist/data/t10k-labels-idx1-ubyte.gz\n",
            "Epoch: 0001 Avg. cost = 0.402\n",
            "Epoch: 0002 Avg. cost = 0.145\n",
            "Epoch: 0003 Avg. cost = 0.095\n",
            "Epoch: 0004 Avg. cost = 0.068\n",
            "Epoch: 0005 Avg. cost = 0.049\n",
            "Epoch: 0006 Avg. cost = 0.038\n",
            "Epoch: 0007 Avg. cost = 0.030\n",
            "Epoch: 0008 Avg. cost = 0.024\n",
            "Epoch: 0009 Avg. cost = 0.020\n",
            "Epoch: 0010 Avg. cost = 0.017\n",
            "Epoch: 0011 Avg. cost = 0.013\n",
            "Epoch: 0012 Avg. cost = 0.014\n",
            "Epoch: 0013 Avg. cost = 0.013\n",
            "Epoch: 0014 Avg. cost = 0.011\n",
            "Epoch: 0015 Avg. cost = 0.009\n",
            "최적화 완료!\n",
            "정확도: 0.9807\n"
          ],
          "name": "stdout"
        }
      ]
    },
    {
      "cell_type": "code",
      "metadata": {
        "id": "ELUOka2IUdtB",
        "colab_type": "code",
        "colab": {}
      },
      "source": [
        ""
      ],
      "execution_count": 0,
      "outputs": []
    }
  ]
}