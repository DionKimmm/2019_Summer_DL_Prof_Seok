{
  "nbformat": 4,
  "nbformat_minor": 0,
  "metadata": {
    "colab": {
      "name": "190729_RNN_BasicLSTMCell.ipynb",
      "version": "0.3.2",
      "provenance": [],
      "toc_visible": true,
      "include_colab_link": true
    },
    "kernelspec": {
      "name": "python3",
      "display_name": "Python 3"
    },
    "accelerator": "GPU"
  },
  "cells": [
    {
      "cell_type": "markdown",
      "metadata": {
        "id": "view-in-github",
        "colab_type": "text"
      },
      "source": [
        "<a href=\"https://colab.research.google.com/github/DionKimmm/2019_Summer_DL_Prof_Seok/blob/master/190729_RNN_BasicLSTMCell.ipynb\" target=\"_parent\"><img src=\"https://colab.research.google.com/assets/colab-badge.svg\" alt=\"Open In Colab\"/></a>"
      ]
    },
    {
      "cell_type": "markdown",
      "metadata": {
        "id": "fq9DEzUP-tEG",
        "colab_type": "text"
      },
      "source": [
        "# LSTM(Long Short Term Memory)의 핵심 \n"
      ]
    },
    {
      "cell_type": "markdown",
      "metadata": {
        "id": "mC7WGjv3Epz-",
        "colab_type": "text"
      },
      "source": [
        "뒤의 것들을 잊지 않도록 Cell 상태를 연결하여 과거 것들이 현재 것들에 반영 되도록 만든다."
      ]
    },
    {
      "cell_type": "markdown",
      "metadata": {
        "id": "rIgdZIesE3JW",
        "colab_type": "text"
      },
      "source": [
        "# 단계"
      ]
    },
    {
      "cell_type": "markdown",
      "metadata": {
        "id": "plKpK_8cNTCl",
        "colab_type": "text"
      },
      "source": [
        "## 필요한 라이브러리 불러오기\n",
        "* Tensorflow, Numpy 등\n",
        "## 데이터 불러오기\n",
        "* Training, Test, Label data\n",
        "## RNN 신경망 모델 구성\n",
        "* 미리 계획된 구조대로 신경망 구성\n",
        "## 최적화\n",
        "## 훈련데이터를 이용한 학습\n",
        "* Session을 열고, Epoch 수를 결정\n",
        "* Epoch를 반복할 때 마다, error 값을 출력하여 error가 줄어들며 학습이 제대로 되는지 확인\n",
        "* 데이터 사이즈가 클 경우, Batch를 통해 일정 사이즈의 데이터 만큼씩 학습을 수행\n",
        "## 테스트 데이터를 이용한 최종 식별 결과 확인\n",
        "* 모델로 예측한 값과 실제 레이블인 Y의 값을 비교\n",
        "* 예측한 값에서 가장 큰 값을 예측한 레이블이라고 평가"
      ]
    },
    {
      "cell_type": "markdown",
      "metadata": {
        "id": "8qKyhfEuN4ek",
        "colab_type": "text"
      },
      "source": [
        "### MNIST는 너무 질렸으니까 Fashion-MNIST를 써보자"
      ]
    },
    {
      "cell_type": "code",
      "metadata": {
        "id": "YJzG5pUvNSYp",
        "colab_type": "code",
        "outputId": "c31f858d-640f-41a3-c91d-246e47b75bb2",
        "colab": {
          "base_uri": "https://localhost:8080/",
          "height": 35
        }
      },
      "source": [
        "!git clone https://github.com/zalandoresearch/fashion-mnist.git"
      ],
      "execution_count": 1,
      "outputs": [
        {
          "output_type": "stream",
          "text": [
            "fatal: destination path 'fashion-mnist' already exists and is not an empty directory.\n"
          ],
          "name": "stdout"
        }
      ]
    },
    {
      "cell_type": "markdown",
      "metadata": {
        "id": "l1VlpvniQJ4v",
        "colab_type": "text"
      },
      "source": [
        "### 필요한 라이브러리 불러오기"
      ]
    },
    {
      "cell_type": "code",
      "metadata": {
        "id": "ipWRBh7xP5tP",
        "colab_type": "code",
        "colab": {}
      },
      "source": [
        "import tensorflow as tf\n",
        "import numpy as np\n"
      ],
      "execution_count": 0,
      "outputs": []
    },
    {
      "cell_type": "markdown",
      "metadata": {
        "id": "akpN_DTDQA6v",
        "colab_type": "text"
      },
      "source": [
        "### 학습, 테스트, 레이블 데이터 불러오기\n"
      ]
    },
    {
      "cell_type": "code",
      "metadata": {
        "id": "hGee5baMQErh",
        "colab_type": "code",
        "outputId": "a284334c-4897-4525-fe47-0de02f257e16",
        "colab": {
          "base_uri": "https://localhost:8080/",
          "height": 451
        }
      },
      "source": [
        "from tensorflow.examples.tutorials.mnist import input_data\n",
        "fashion_mnist = input_data.read_data_sets('./fashion-mnist/data/fashion', one_hot=True)"
      ],
      "execution_count": 3,
      "outputs": [
        {
          "output_type": "stream",
          "text": [
            "WARNING: Logging before flag parsing goes to stderr.\n",
            "W0729 06:02:04.135340 139741380044672 deprecation.py:323] From <ipython-input-3-79432a3ebfaa>:2: read_data_sets (from tensorflow.contrib.learn.python.learn.datasets.mnist) is deprecated and will be removed in a future version.\n",
            "Instructions for updating:\n",
            "Please use alternatives such as official/mnist/dataset.py from tensorflow/models.\n",
            "W0729 06:02:04.136940 139741380044672 deprecation.py:323] From /usr/local/lib/python3.6/dist-packages/tensorflow/contrib/learn/python/learn/datasets/mnist.py:260: maybe_download (from tensorflow.contrib.learn.python.learn.datasets.base) is deprecated and will be removed in a future version.\n",
            "Instructions for updating:\n",
            "Please write your own downloading logic.\n",
            "W0729 06:02:04.142408 139741380044672 deprecation.py:323] From /usr/local/lib/python3.6/dist-packages/tensorflow/contrib/learn/python/learn/datasets/mnist.py:262: extract_images (from tensorflow.contrib.learn.python.learn.datasets.mnist) is deprecated and will be removed in a future version.\n",
            "Instructions for updating:\n",
            "Please use tf.data to implement this functionality.\n"
          ],
          "name": "stderr"
        },
        {
          "output_type": "stream",
          "text": [
            "Extracting ./fashion-mnist/data/fashion/train-images-idx3-ubyte.gz\n"
          ],
          "name": "stdout"
        },
        {
          "output_type": "stream",
          "text": [
            "W0729 06:02:04.501463 139741380044672 deprecation.py:323] From /usr/local/lib/python3.6/dist-packages/tensorflow/contrib/learn/python/learn/datasets/mnist.py:267: extract_labels (from tensorflow.contrib.learn.python.learn.datasets.mnist) is deprecated and will be removed in a future version.\n",
            "Instructions for updating:\n",
            "Please use tf.data to implement this functionality.\n",
            "W0729 06:02:04.504730 139741380044672 deprecation.py:323] From /usr/local/lib/python3.6/dist-packages/tensorflow/contrib/learn/python/learn/datasets/mnist.py:110: dense_to_one_hot (from tensorflow.contrib.learn.python.learn.datasets.mnist) is deprecated and will be removed in a future version.\n",
            "Instructions for updating:\n",
            "Please use tf.one_hot on tensors.\n",
            "W0729 06:02:04.575516 139741380044672 deprecation.py:323] From /usr/local/lib/python3.6/dist-packages/tensorflow/contrib/learn/python/learn/datasets/mnist.py:290: DataSet.__init__ (from tensorflow.contrib.learn.python.learn.datasets.mnist) is deprecated and will be removed in a future version.\n",
            "Instructions for updating:\n",
            "Please use alternatives such as official/mnist/dataset.py from tensorflow/models.\n"
          ],
          "name": "stderr"
        },
        {
          "output_type": "stream",
          "text": [
            "Extracting ./fashion-mnist/data/fashion/train-labels-idx1-ubyte.gz\n",
            "Extracting ./fashion-mnist/data/fashion/t10k-images-idx3-ubyte.gz\n",
            "Extracting ./fashion-mnist/data/fashion/t10k-labels-idx1-ubyte.gz\n"
          ],
          "name": "stdout"
        }
      ]
    },
    {
      "cell_type": "code",
      "metadata": {
        "id": "WG4NEvRmQG9M",
        "colab_type": "code",
        "colab": {}
      },
      "source": [
        "# 옵션 설정\n",
        "learning_rate = 0.001\n",
        "total_epoch = 30\n",
        "batch_size = 128\n",
        "\n",
        "# RNN 은 순서가 있는 자료를 다루므로, 한 번에 입력받는 갯수와, 총 몇 단계로 \n",
        "# 이루어져있는 데이터를 받을지를 설정\n",
        "# 가로 픽셀수를 n_input 으로, 세로 픽셀수를 입력 단계인 n_step 으로 설정\n",
        "n_input = 28\n",
        "n_step = 28\n",
        "n_hidden = 128\n",
        "n_class = 10\n"
      ],
      "execution_count": 0,
      "outputs": []
    },
    {
      "cell_type": "markdown",
      "metadata": {
        "id": "BkkaGjg4QQZD",
        "colab_type": "text"
      },
      "source": [
        "### RNN 신경망 모델 구성"
      ]
    },
    {
      "cell_type": "code",
      "metadata": {
        "id": "2FYMTc4KQUDg",
        "colab_type": "code",
        "outputId": "adcbfd21-ea29-429b-c50a-55afcb75bd14",
        "colab": {
          "base_uri": "https://localhost:8080/",
          "height": 307
        }
      },
      "source": [
        "X = tf.placeholder(tf.float32, [None, n_step, n_input])  #n_step 이 추가 (CNN과 차이점)\n",
        "Y = tf.placeholder(tf.float32, [None, n_class])\n",
        "\n",
        "# RNN 에 학습에 사용할 셀을 생성합니다\n",
        "# 다음 함수들을 사용하면 다른 구조의 셀로 간단하게 변경할 수 있습니다\n",
        "# cell = tf.nn.rnn_cell.BasicRNNCell(n_hidden)\n",
        "cell = tf.nn.rnn_cell.BasicLSTMCell(n_hidden, forget_bias=1.0, state_is_tuple=True)\n",
        "\n",
        "\n",
        "# 다음처럼 tf.nn.dynamic_rnn 함수를 사용하면, CNN 의 tf.nn.conv2d 함수처럼 간단하게 RNN 신경망을 만듬 \n",
        "# outputs, states = tf.nn.dynamic_rnn(cell, X, dtype=tf.float32)\n",
        "outputs, _state = tf.nn.dynamic_rnn(cell, X, dtype=tf.float32)\n",
        "\n",
        "# 결과를 Y의 다음 형식과 바꿔야 하기 때문에\n",
        "# Y : [batch_size, n_class]\n",
        "# outputs 의 형태를 이에 맞춰 변경해야합니다.\n",
        "# outputs :  [batch_size, n_step, n_hidden]\n",
        "#           ->  [n_step, batch_size, n_hidden]\n",
        "#           ->  [batch_size, n_hidden]\n",
        "outputs = tf.transpose(outputs, [1, 0, 2])\n",
        "outputs = outputs[-1]\n",
        "\n",
        "model = tf.layers.dense(outputs, 10)\n"
      ],
      "execution_count": 6,
      "outputs": [
        {
          "output_type": "stream",
          "text": [
            "W0729 06:02:15.432438 139741380044672 deprecation.py:323] From <ipython-input-6-0d16fa3485a6>:7: BasicLSTMCell.__init__ (from tensorflow.python.ops.rnn_cell_impl) is deprecated and will be removed in a future version.\n",
            "Instructions for updating:\n",
            "This class is equivalent as tf.keras.layers.LSTMCell, and will be replaced by that in Tensorflow 2.0.\n",
            "W0729 06:02:15.438813 139741380044672 deprecation.py:323] From <ipython-input-6-0d16fa3485a6>:12: dynamic_rnn (from tensorflow.python.ops.rnn) is deprecated and will be removed in a future version.\n",
            "Instructions for updating:\n",
            "Please use `keras.layers.RNN(cell)`, which is equivalent to this API\n",
            "W0729 06:02:15.533492 139741380044672 deprecation.py:506] From /usr/local/lib/python3.6/dist-packages/tensorflow/python/ops/init_ops.py:1251: calling VarianceScaling.__init__ (from tensorflow.python.ops.init_ops) with dtype is deprecated and will be removed in a future version.\n",
            "Instructions for updating:\n",
            "Call initializer instance with the dtype argument instead of passing it to the constructor\n",
            "W0729 06:02:15.548530 139741380044672 deprecation.py:506] From /usr/local/lib/python3.6/dist-packages/tensorflow/python/ops/rnn_cell_impl.py:738: calling Zeros.__init__ (from tensorflow.python.ops.init_ops) with dtype is deprecated and will be removed in a future version.\n",
            "Instructions for updating:\n",
            "Call initializer instance with the dtype argument instead of passing it to the constructor\n",
            "W0729 06:02:16.134151 139741380044672 deprecation.py:323] From <ipython-input-6-0d16fa3485a6>:23: dense (from tensorflow.python.layers.core) is deprecated and will be removed in a future version.\n",
            "Instructions for updating:\n",
            "Use keras.layers.dense instead.\n"
          ],
          "name": "stderr"
        }
      ]
    },
    {
      "cell_type": "markdown",
      "metadata": {
        "id": "KrBnpMiVQWdt",
        "colab_type": "text"
      },
      "source": [
        "### 손실함수 및 최적화"
      ]
    },
    {
      "cell_type": "code",
      "metadata": {
        "id": "FPhfzyjWQeY9",
        "colab_type": "code",
        "outputId": "94cc5c4d-aae1-4dc5-d1e7-c5daab9fded7",
        "colab": {
          "base_uri": "https://localhost:8080/",
          "height": 181
        }
      },
      "source": [
        "cost = tf.reduce_mean(tf.nn.softmax_cross_entropy_with_logits(logits=model, labels=Y))\n",
        "optimizer = tf.train.AdamOptimizer(learning_rate).minimize(cost)"
      ],
      "execution_count": 7,
      "outputs": [
        {
          "output_type": "stream",
          "text": [
            "W0729 06:02:24.444953 139741380044672 deprecation.py:323] From <ipython-input-7-63c40467412b>:1: softmax_cross_entropy_with_logits (from tensorflow.python.ops.nn_ops) is deprecated and will be removed in a future version.\n",
            "Instructions for updating:\n",
            "\n",
            "Future major versions of TensorFlow will allow gradients to flow\n",
            "into the labels input on backprop by default.\n",
            "\n",
            "See `tf.nn.softmax_cross_entropy_with_logits_v2`.\n",
            "\n"
          ],
          "name": "stderr"
        }
      ]
    },
    {
      "cell_type": "markdown",
      "metadata": {
        "id": "wOu5uxd2QfVN",
        "colab_type": "text"
      },
      "source": [
        "### 훈련 데이터를 신경망 모델 학습"
      ]
    },
    {
      "cell_type": "code",
      "metadata": {
        "id": "5X-6o9GEQhyd",
        "colab_type": "code",
        "outputId": "46ed3b4e-05c7-432f-b63c-c9b657988954",
        "colab": {
          "base_uri": "https://localhost:8080/",
          "height": 575
        }
      },
      "source": [
        "sess = tf.Session()\n",
        "sess.run(tf.global_variables_initializer())\n",
        "\n",
        "total_batch = int(fashion_mnist.train.num_examples/batch_size)\n",
        "for epoch in range(total_epoch):\n",
        "    total_cost = 0\n",
        "\n",
        "    for i in range(total_batch):\n",
        "        batch_xs, batch_ys = fashion_mnist.train.next_batch(batch_size)\n",
        "\n",
        "        # X 데이터를 RNN 입력 데이터에 맞게 [batch_size, n_step, n_input] 형태로 변환합니다.\n",
        "        batch_xs = batch_xs.reshape((batch_size, n_step, n_input))\n",
        "\n",
        "        _, cost_val = sess.run([optimizer, cost],\n",
        "                               feed_dict={X: batch_xs, Y: batch_ys})\n",
        "        total_cost += cost_val\n",
        "\n",
        "    print('Epoch:', '%04d' % (epoch + 1), 'Avg. cost =', '{:.3f}'.format(total_cost / total_batch))\n",
        "print('최적화 완료!')\n"
      ],
      "execution_count": 8,
      "outputs": [
        {
          "output_type": "stream",
          "text": [
            "Epoch: 0001 Avg. cost = 0.678\n",
            "Epoch: 0002 Avg. cost = 0.455\n",
            "Epoch: 0003 Avg. cost = 0.408\n",
            "Epoch: 0004 Avg. cost = 0.379\n",
            "Epoch: 0005 Avg. cost = 0.353\n",
            "Epoch: 0006 Avg. cost = 0.335\n",
            "Epoch: 0007 Avg. cost = 0.321\n",
            "Epoch: 0008 Avg. cost = 0.308\n",
            "Epoch: 0009 Avg. cost = 0.295\n",
            "Epoch: 0010 Avg. cost = 0.284\n",
            "Epoch: 0011 Avg. cost = 0.277\n",
            "Epoch: 0012 Avg. cost = 0.267\n",
            "Epoch: 0013 Avg. cost = 0.259\n",
            "Epoch: 0014 Avg. cost = 0.250\n",
            "Epoch: 0015 Avg. cost = 0.241\n",
            "Epoch: 0016 Avg. cost = 0.237\n",
            "Epoch: 0017 Avg. cost = 0.233\n",
            "Epoch: 0018 Avg. cost = 0.224\n",
            "Epoch: 0019 Avg. cost = 0.218\n",
            "Epoch: 0020 Avg. cost = 0.211\n",
            "Epoch: 0021 Avg. cost = 0.204\n",
            "Epoch: 0022 Avg. cost = 0.201\n",
            "Epoch: 0023 Avg. cost = 0.196\n",
            "Epoch: 0024 Avg. cost = 0.187\n",
            "Epoch: 0025 Avg. cost = 0.183\n",
            "Epoch: 0026 Avg. cost = 0.177\n",
            "Epoch: 0027 Avg. cost = 0.173\n",
            "Epoch: 0028 Avg. cost = 0.168\n",
            "Epoch: 0029 Avg. cost = 0.162\n",
            "Epoch: 0030 Avg. cost = 0.158\n",
            "최적화 완료!\n"
          ],
          "name": "stdout"
        }
      ]
    },
    {
      "cell_type": "markdown",
      "metadata": {
        "id": "hHxZ3vu3QkfN",
        "colab_type": "text"
      },
      "source": [
        "### 테스트 데이터를 이용한 최종 식별 결과 확인"
      ]
    },
    {
      "cell_type": "code",
      "metadata": {
        "id": "L3vX9ujdQ6aM",
        "colab_type": "code",
        "outputId": "9a560a17-d1d5-4669-feee-ebdd2840eb10",
        "colab": {
          "base_uri": "https://localhost:8080/",
          "height": 35
        }
      },
      "source": [
        "is_correct = tf.equal(tf.argmax(model, 1), tf.argmax(Y, 1))\n",
        "accuracy = tf.reduce_mean(tf.cast(is_correct, tf.float32))\n",
        "\n",
        "test_batch_size = len(fashion_mnist.test.images)\n",
        "test_xs = fashion_mnist.test.images.reshape(test_batch_size, n_step, n_input)\n",
        "test_ys = fashion_mnist.test.labels\n",
        "\n",
        "print('정확도:', sess.run(accuracy, feed_dict={X: test_xs, Y: test_ys}))\n"
      ],
      "execution_count": 9,
      "outputs": [
        {
          "output_type": "stream",
          "text": [
            "정확도: 0.8922\n"
          ],
          "name": "stdout"
        }
      ]
    }
  ]
}