{
  "nbformat": 4,
  "nbformat_minor": 0,
  "metadata": {
    "colab": {
      "name": "190717_CNN_Ver2_using_tf_layers.ipynb",
      "version": "0.3.2",
      "provenance": [],
      "include_colab_link": true
    },
    "kernelspec": {
      "name": "python3",
      "display_name": "Python 3"
    },
    "accelerator": "GPU"
  },
  "cells": [
    {
      "cell_type": "markdown",
      "metadata": {
        "id": "view-in-github",
        "colab_type": "text"
      },
      "source": [
        "<a href=\"https://colab.research.google.com/github/DionKimmm/2019_Summer_DL_Prof_Seok/blob/master/190717_CNN_Ver2_using_tf_layers.ipynb\" target=\"_parent\"><img src=\"https://colab.research.google.com/assets/colab-badge.svg\" alt=\"Open In Colab\"/></a>"
      ]
    },
    {
      "cell_type": "markdown",
      "metadata": {
        "id": "ZtzTjI6kpgBV",
        "colab_type": "text"
      },
      "source": [
        "# tf.layers API를 이용한 CNN 모델 : MNIST 식별"
      ]
    },
    {
      "cell_type": "code",
      "metadata": {
        "id": "myShGBJUgW3w",
        "colab_type": "code",
        "colab": {
          "base_uri": "https://localhost:8080/",
          "height": 451
        },
        "outputId": "959321fd-8f90-4365-b9a5-5e4b5182b53d"
      },
      "source": [
        "import tensorflow as tf\n",
        "# import numpy as np\n",
        "from tensorflow.examples.tutorials.mnist import input_data\n",
        "mnist = input_data.read_data_sets(\"./mnist/data/\", one_hot=True)\n",
        "\n",
        "#신경망 모델 구성\n",
        "X = tf.placeholder(tf.float32, [None, 28, 28, 1])\n",
        "Y = tf.placeholder(tf.float32, [None, 10])\n",
        "is_training = tf.placeholder(tf.bool)"
      ],
      "execution_count": 1,
      "outputs": [
        {
          "output_type": "stream",
          "text": [
            "WARNING: Logging before flag parsing goes to stderr.\n",
            "W0717 06:22:32.775214 140284528940928 deprecation.py:323] From <ipython-input-1-1af11a126bed>:4: read_data_sets (from tensorflow.contrib.learn.python.learn.datasets.mnist) is deprecated and will be removed in a future version.\n",
            "Instructions for updating:\n",
            "Please use alternatives such as official/mnist/dataset.py from tensorflow/models.\n",
            "W0717 06:22:32.776868 140284528940928 deprecation.py:323] From /usr/local/lib/python3.6/dist-packages/tensorflow/contrib/learn/python/learn/datasets/mnist.py:260: maybe_download (from tensorflow.contrib.learn.python.learn.datasets.base) is deprecated and will be removed in a future version.\n",
            "Instructions for updating:\n",
            "Please write your own downloading logic.\n",
            "W0717 06:22:32.782408 140284528940928 deprecation.py:323] From /usr/local/lib/python3.6/dist-packages/tensorflow/contrib/learn/python/learn/datasets/mnist.py:262: extract_images (from tensorflow.contrib.learn.python.learn.datasets.mnist) is deprecated and will be removed in a future version.\n",
            "Instructions for updating:\n",
            "Please use tf.data to implement this functionality.\n"
          ],
          "name": "stderr"
        },
        {
          "output_type": "stream",
          "text": [
            "Extracting ./mnist/data/train-images-idx3-ubyte.gz\n"
          ],
          "name": "stdout"
        },
        {
          "output_type": "stream",
          "text": [
            "W0717 06:22:33.031486 140284528940928 deprecation.py:323] From /usr/local/lib/python3.6/dist-packages/tensorflow/contrib/learn/python/learn/datasets/mnist.py:267: extract_labels (from tensorflow.contrib.learn.python.learn.datasets.mnist) is deprecated and will be removed in a future version.\n",
            "Instructions for updating:\n",
            "Please use tf.data to implement this functionality.\n",
            "W0717 06:22:33.034619 140284528940928 deprecation.py:323] From /usr/local/lib/python3.6/dist-packages/tensorflow/contrib/learn/python/learn/datasets/mnist.py:110: dense_to_one_hot (from tensorflow.contrib.learn.python.learn.datasets.mnist) is deprecated and will be removed in a future version.\n",
            "Instructions for updating:\n",
            "Please use tf.one_hot on tensors.\n",
            "W0717 06:22:33.082842 140284528940928 deprecation.py:323] From /usr/local/lib/python3.6/dist-packages/tensorflow/contrib/learn/python/learn/datasets/mnist.py:290: DataSet.__init__ (from tensorflow.contrib.learn.python.learn.datasets.mnist) is deprecated and will be removed in a future version.\n",
            "Instructions for updating:\n",
            "Please use alternatives such as official/mnist/dataset.py from tensorflow/models.\n"
          ],
          "name": "stderr"
        },
        {
          "output_type": "stream",
          "text": [
            "Extracting ./mnist/data/train-labels-idx1-ubyte.gz\n",
            "Extracting ./mnist/data/t10k-images-idx3-ubyte.gz\n",
            "Extracting ./mnist/data/t10k-labels-idx1-ubyte.gz\n"
          ],
          "name": "stdout"
        }
      ]
    },
    {
      "cell_type": "code",
      "metadata": {
        "id": "6kHOGOFigbSz",
        "colab_type": "code",
        "colab": {
          "base_uri": "https://localhost:8080/",
          "height": 307
        },
        "outputId": "26a6f3b7-cd9c-4d35-b3b5-ddf2a7a477c5"
      },
      "source": [
        "L1 = tf.layers.conv2d(X, 32, [3, 3], activation=tf.nn.relu)\n",
        "print(L1)\n",
        "L1 = tf.layers.max_pooling2d(L1, [2, 2], [2, 2])\n",
        "print(L1)\n",
        "L1 = tf.layers.dropout(L1, 0.7, is_training)\n",
        "print(L1)"
      ],
      "execution_count": 2,
      "outputs": [
        {
          "output_type": "stream",
          "text": [
            "W0717 06:22:33.309774 140284528940928 deprecation.py:323] From <ipython-input-2-bfc320268597>:1: conv2d (from tensorflow.python.layers.convolutional) is deprecated and will be removed in a future version.\n",
            "Instructions for updating:\n",
            "Use `tf.keras.layers.Conv2D` instead.\n",
            "W0717 06:22:33.319110 140284528940928 deprecation.py:506] From /usr/local/lib/python3.6/dist-packages/tensorflow/python/ops/init_ops.py:1251: calling VarianceScaling.__init__ (from tensorflow.python.ops.init_ops) with dtype is deprecated and will be removed in a future version.\n",
            "Instructions for updating:\n",
            "Call initializer instance with the dtype argument instead of passing it to the constructor\n",
            "W0717 06:22:33.526949 140284528940928 deprecation.py:323] From <ipython-input-2-bfc320268597>:3: max_pooling2d (from tensorflow.python.layers.pooling) is deprecated and will be removed in a future version.\n",
            "Instructions for updating:\n",
            "Use keras.layers.MaxPooling2D instead.\n",
            "W0717 06:22:33.648827 140284528940928 deprecation.py:323] From <ipython-input-2-bfc320268597>:5: dropout (from tensorflow.python.layers.core) is deprecated and will be removed in a future version.\n",
            "Instructions for updating:\n",
            "Use keras.layers.dropout instead.\n"
          ],
          "name": "stderr"
        },
        {
          "output_type": "stream",
          "text": [
            "Tensor(\"conv2d/Relu:0\", shape=(?, 26, 26, 32), dtype=float32)\n",
            "Tensor(\"max_pooling2d/MaxPool:0\", shape=(?, 13, 13, 32), dtype=float32)\n",
            "Tensor(\"dropout/Identity:0\", shape=(?, 13, 13, 32), dtype=float32)\n"
          ],
          "name": "stdout"
        }
      ]
    },
    {
      "cell_type": "code",
      "metadata": {
        "id": "iXCkKO2ihFmk",
        "colab_type": "code",
        "colab": {
          "base_uri": "https://localhost:8080/",
          "height": 71
        },
        "outputId": "b3bd8d42-67e8-4d8f-9dbf-ce41f3b76523"
      },
      "source": [
        "L2 = tf.layers.conv2d(L1, 64, [3, 3], activation=tf.nn.relu)\n",
        "print(L2)\n",
        "L2 = tf.layers.max_pooling2d(L2, [2, 2], [2, 2])\n",
        "print(L2)\n",
        "L2 = tf.layers.dropout(L2, 0.7, is_training)\n",
        "print(L2)"
      ],
      "execution_count": 3,
      "outputs": [
        {
          "output_type": "stream",
          "text": [
            "Tensor(\"conv2d_1/Relu:0\", shape=(?, 11, 11, 64), dtype=float32)\n",
            "Tensor(\"max_pooling2d_1/MaxPool:0\", shape=(?, 5, 5, 64), dtype=float32)\n",
            "Tensor(\"dropout_1/Identity:0\", shape=(?, 5, 5, 64), dtype=float32)\n"
          ],
          "name": "stdout"
        }
      ]
    },
    {
      "cell_type": "code",
      "metadata": {
        "id": "GITLxTINhsxP",
        "colab_type": "code",
        "colab": {
          "base_uri": "https://localhost:8080/",
          "height": 71
        },
        "outputId": "13f0d71f-d261-43f2-e177-3f5b33108699"
      },
      "source": [
        "L3 = tf.layers.conv2d(L2, 128, [3, 3], activation=tf.nn.relu)\n",
        "print(L3)\n",
        "L3 = tf.layers.max_pooling2d(L3, [2, 2], [2, 2])\n",
        "print(L3)\n",
        "L3 = tf.layers.dropout(L3, 0.7, is_training)\n",
        "print(L3)"
      ],
      "execution_count": 4,
      "outputs": [
        {
          "output_type": "stream",
          "text": [
            "Tensor(\"conv2d_2/Relu:0\", shape=(?, 3, 3, 128), dtype=float32)\n",
            "Tensor(\"max_pooling2d_2/MaxPool:0\", shape=(?, 1, 1, 128), dtype=float32)\n",
            "Tensor(\"dropout_2/Identity:0\", shape=(?, 1, 1, 128), dtype=float32)\n"
          ],
          "name": "stdout"
        }
      ]
    },
    {
      "cell_type": "code",
      "metadata": {
        "id": "6KvkB5YQhF5Z",
        "colab_type": "code",
        "colab": {
          "base_uri": "https://localhost:8080/",
          "height": 145
        },
        "outputId": "9cc280ab-533e-4cba-d993-21220259f67b"
      },
      "source": [
        "L4 = tf.contrib.layers.flatten(L3)\n",
        "L4 = tf.layers.dense(L4, 256, activation=tf.nn.relu)\n",
        "L4 = tf.layers.dropout(L4, 0.5, is_training)"
      ],
      "execution_count": 5,
      "outputs": [
        {
          "output_type": "stream",
          "text": [
            "W0717 06:22:33.777123 140284528940928 deprecation.py:323] From /usr/local/lib/python3.6/dist-packages/tensorflow/contrib/layers/python/layers/layers.py:1634: flatten (from tensorflow.python.layers.core) is deprecated and will be removed in a future version.\n",
            "Instructions for updating:\n",
            "Use keras.layers.flatten instead.\n",
            "W0717 06:22:33.990384 140284528940928 deprecation.py:323] From <ipython-input-5-bfb54a4a9348>:2: dense (from tensorflow.python.layers.core) is deprecated and will be removed in a future version.\n",
            "Instructions for updating:\n",
            "Use keras.layers.dense instead.\n"
          ],
          "name": "stderr"
        }
      ]
    },
    {
      "cell_type": "code",
      "metadata": {
        "id": "XT4vzpiAhG7a",
        "colab_type": "code",
        "colab": {}
      },
      "source": [
        "# model = tf.layers.dense(L3, 10, activation=None)\n",
        "model = tf.layers.dense(L4, 10, activation=None)"
      ],
      "execution_count": 0,
      "outputs": []
    },
    {
      "cell_type": "code",
      "metadata": {
        "id": "2TaQRvpqhIWC",
        "colab_type": "code",
        "colab": {}
      },
      "source": [
        "cost = tf.reduce_mean(tf.nn.softmax_cross_entropy_with_logits(logits=model, labels=Y))\n",
        "optimizer = tf.train.AdamOptimizer(0.001).minimize(cost)"
      ],
      "execution_count": 0,
      "outputs": []
    },
    {
      "cell_type": "code",
      "metadata": {
        "id": "3ldpy1EAfPLf",
        "colab_type": "code",
        "colab": {}
      },
      "source": [
        "init = tf.global_variables_initializer()\n",
        "sess = tf.Session()\n",
        "sess.run(init)\n"
      ],
      "execution_count": 0,
      "outputs": []
    },
    {
      "cell_type": "code",
      "metadata": {
        "id": "B-0ZIZpDfT30",
        "colab_type": "code",
        "colab": {}
      },
      "source": [
        "batch_size = 100\n",
        "total_batch = int(mnist.train.num_examples/batch_size)"
      ],
      "execution_count": 0,
      "outputs": []
    },
    {
      "cell_type": "code",
      "metadata": {
        "id": "kuCQRuiHfYGy",
        "colab_type": "code",
        "outputId": "f80d009d-7594-43e6-a641-63f4bf50b9bf",
        "colab": {
          "base_uri": "https://localhost:8080/",
          "height": 305
        }
      },
      "source": [
        "for epoch in range(15):\n",
        "  total_cost = 0\n",
        "  \n",
        "  for i in range(total_batch):\n",
        "    batch_xs, batch_ys = mnist.train.next_batch(batch_size)\n",
        "    batch_xs = batch_xs.reshape(-1, 28, 28, 1)\n",
        "    _, cost_val = sess.run([optimizer, cost], feed_dict={X: batch_xs, Y: batch_ys, is_training: True})\n",
        "    total_cost += cost_val\n",
        "  \n",
        "  print('Epoch:', '%04d' % (epoch + 1), 'Avg. cost =', '{:.4f}'.format(total_cost / total_batch))\n",
        "print('최적화 완료!')"
      ],
      "execution_count": 16,
      "outputs": [
        {
          "output_type": "stream",
          "text": [
            "Epoch: 0001 Avg. cost = 0.2858\n",
            "Epoch: 0002 Avg. cost = 0.0794\n",
            "Epoch: 0003 Avg. cost = 0.0577\n",
            "Epoch: 0004 Avg. cost = 0.0442\n",
            "Epoch: 0005 Avg. cost = 0.0351\n",
            "Epoch: 0006 Avg. cost = 0.0312\n",
            "Epoch: 0007 Avg. cost = 0.0248\n",
            "Epoch: 0008 Avg. cost = 0.0207\n",
            "Epoch: 0009 Avg. cost = 0.0184\n",
            "Epoch: 0010 Avg. cost = 0.0147\n",
            "Epoch: 0011 Avg. cost = 0.0125\n",
            "Epoch: 0012 Avg. cost = 0.0154\n",
            "Epoch: 0013 Avg. cost = 0.0111\n",
            "Epoch: 0014 Avg. cost = 0.0084\n",
            "Epoch: 0015 Avg. cost = 0.0101\n",
            "최적화 완료!\n"
          ],
          "name": "stdout"
        }
      ]
    },
    {
      "cell_type": "code",
      "metadata": {
        "id": "5zphObKRfZeh",
        "colab_type": "code",
        "outputId": "56dde0a2-4cce-48b5-cfcf-b40c5fd3c0c9",
        "colab": {
          "base_uri": "https://localhost:8080/",
          "height": 35
        }
      },
      "source": [
        "is_correct = tf.equal(tf.argmax(model, 1), tf.argmax(Y, 1))\n",
        "accuracy = tf.reduce_mean(tf.cast(is_correct, tf.float32))\n",
        "print('정확도:', sess.run(accuracy, feed_dict={X: mnist.test.images.reshape(-1, 28, 28, 1), Y: mnist.test.labels, is_training: False}))"
      ],
      "execution_count": 17,
      "outputs": [
        {
          "output_type": "stream",
          "text": [
            "정확도: 0.986\n"
          ],
          "name": "stdout"
        }
      ]
    },
    {
      "cell_type": "code",
      "metadata": {
        "id": "M9opDXIijD46",
        "colab_type": "code",
        "colab": {}
      },
      "source": [
        ""
      ],
      "execution_count": 0,
      "outputs": []
    }
  ]
}